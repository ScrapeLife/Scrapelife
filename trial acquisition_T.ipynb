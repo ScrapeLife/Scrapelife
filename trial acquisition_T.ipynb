{
 "cells": [
  {
   "cell_type": "code",
   "execution_count": 8,
   "metadata": {},
   "outputs": [],
   "source": [
    "from bs4 import BeautifulSoup\n",
    "from requests import get\n",
    "import warnings\n",
    "warnings.filterwarnings('ignore')\n",
    "import re\n",
    "import pandas as pd\n",
    "import time"
   ]
  },
  {
   "cell_type": "code",
   "execution_count": 9,
   "metadata": {},
   "outputs": [],
   "source": [
    "first_pages = ['https://github.com/search?l=JavaScript&q=stars%3A%3E0&s=stars&type=Repositories',\n",
    "        'https://github.com/search?l=Python&q=stars%3A%3E0&s=stars&type=Repositories',\n",
    "        'https://github.com/search?l=Java&q=stars%3A%3E0&s=stars&type=Repositories',\n",
    "        'https://github.com/search?l=PHP&q=stars%3A%3E0&s=stars&type=Repositories']\n",
    "headers = {'User-Agent': 'Codeup Data Science Student'}\n"
   ]
  },
  {
   "cell_type": "code",
   "execution_count": null,
   "metadata": {},
   "outputs": [],
   "source": []
  },
  {
   "cell_type": "code",
   "execution_count": null,
   "metadata": {},
   "outputs": [],
   "source": []
  },
  {
   "cell_type": "code",
   "execution_count": null,
   "metadata": {},
   "outputs": [],
   "source": []
  },
  {
   "cell_type": "code",
   "execution_count": 18,
   "metadata": {},
   "outputs": [
    {
     "name": "stdout",
     "output_type": "stream",
     "text": [
      "loop:  0\n"
     ]
    },
    {
     "ename": "AttributeError",
     "evalue": "'NoneType' object has no attribute 'select'",
     "output_type": "error",
     "traceback": [
      "\u001b[0;31m---------------------------------------------------------------------------\u001b[0m",
      "\u001b[0;31mAttributeError\u001b[0m                            Traceback (most recent call last)",
      "\u001b[0;32m<ipython-input-18-1c9094cfa946>\u001b[0m in \u001b[0;36m<module>\u001b[0;34m\u001b[0m\n\u001b[1;32m     10\u001b[0m         \u001b[0mraw_data\u001b[0m \u001b[0;34m=\u001b[0m \u001b[0mget\u001b[0m\u001b[0;34m(\u001b[0m\u001b[0murl\u001b[0m\u001b[0;34m,\u001b[0m \u001b[0mheaders\u001b[0m \u001b[0;34m=\u001b[0m \u001b[0mheaders\u001b[0m\u001b[0;34m)\u001b[0m\u001b[0;34m.\u001b[0m\u001b[0mtext\u001b[0m\u001b[0;34m\u001b[0m\u001b[0;34m\u001b[0m\u001b[0m\n\u001b[1;32m     11\u001b[0m         \u001b[0msoup\u001b[0m \u001b[0;34m=\u001b[0m \u001b[0mBeautifulSoup\u001b[0m\u001b[0;34m(\u001b[0m\u001b[0mraw_data\u001b[0m\u001b[0;34m)\u001b[0m\u001b[0;34m\u001b[0m\u001b[0;34m\u001b[0m\u001b[0m\n\u001b[0;32m---> 12\u001b[0;31m         \u001b[0mstuff\u001b[0m \u001b[0;34m=\u001b[0m \u001b[0msoup\u001b[0m\u001b[0;34m.\u001b[0m\u001b[0mselect_one\u001b[0m\u001b[0;34m(\u001b[0m\u001b[0;34m'.repo-list'\u001b[0m\u001b[0;34m)\u001b[0m\u001b[0;34m.\u001b[0m\u001b[0mselect\u001b[0m\u001b[0;34m(\u001b[0m\u001b[0;34m'.v-align-middle'\u001b[0m\u001b[0;34m)\u001b[0m\u001b[0;34m\u001b[0m\u001b[0;34m\u001b[0m\u001b[0m\n\u001b[0m\u001b[1;32m     13\u001b[0m         \u001b[0mbetter_stuff\u001b[0m \u001b[0;34m=\u001b[0m \u001b[0;34m[\u001b[0m\u001b[0mx\u001b[0m\u001b[0;34m.\u001b[0m\u001b[0mtext\u001b[0m \u001b[0;32mfor\u001b[0m \u001b[0mx\u001b[0m \u001b[0;32min\u001b[0m \u001b[0mstuff\u001b[0m\u001b[0;34m]\u001b[0m\u001b[0;34m\u001b[0m\u001b[0;34m\u001b[0m\u001b[0m\n\u001b[1;32m     14\u001b[0m         \u001b[0;32mfor\u001b[0m \u001b[0murl\u001b[0m \u001b[0;32min\u001b[0m \u001b[0mbetter_stuff\u001b[0m\u001b[0;34m:\u001b[0m\u001b[0;34m\u001b[0m\u001b[0;34m\u001b[0m\u001b[0m\n",
      "\u001b[0;31mAttributeError\u001b[0m: 'NoneType' object has no attribute 'select'"
     ]
    }
   ],
   "source": [
    "headers = {'User-Agent': 'Codeup Data Science Student'}\n",
    "i = 0\n",
    "all_urls = []\n",
    "for page in first_pages:\n",
    "    page_urls = []\n",
    "    url = page\n",
    "    while len(page_urls) <10:\n",
    "        print('loop: ', i)\n",
    "        i += 1\n",
    "        raw_data = get(url, headers = headers).text\n",
    "        soup = BeautifulSoup(raw_data)\n",
    "        stuff = soup.select_one('.repo-list').select('.v-align-middle')\n",
    "        better_stuff = [x.text for x in stuff]\n",
    "        for url in better_stuff:\n",
    "            page_urls.append('http://github.com/' + url)\n",
    "\n",
    "        next_page = soup.select_one('.next_page').get('href')\n",
    "        url= ('https://github.com' + next_page)\n",
    "        time.sleep(10)\n",
    "    all_urls += page_urls\n",
    "    \n",
    "\n",
    "    \n",
    "    \n",
    "    \n",
    "    \n",
    "    "
   ]
  },
  {
   "cell_type": "code",
   "execution_count": 17,
   "metadata": {},
   "outputs": [
    {
     "data": {
      "text/plain": [
       "0"
      ]
     },
     "execution_count": 17,
     "metadata": {},
     "output_type": "execute_result"
    }
   ],
   "source": [
    "len(all_urls)"
   ]
  },
  {
   "cell_type": "code",
   "execution_count": null,
   "metadata": {},
   "outputs": [],
   "source": []
  },
  {
   "cell_type": "code",
   "execution_count": null,
   "metadata": {},
   "outputs": [],
   "source": [
    "urls.to_csv('first100', index = False)"
   ]
  },
  {
   "cell_type": "code",
   "execution_count": null,
   "metadata": {},
   "outputs": [],
   "source": [
    "urls = pd.read_csv('first100', names = ['url'])"
   ]
  },
  {
   "cell_type": "code",
   "execution_count": null,
   "metadata": {},
   "outputs": [],
   "source": [
    "get(first_pages[0], headers = headers)\n"
   ]
  },
  {
   "cell_type": "code",
   "execution_count": null,
   "metadata": {},
   "outputs": [],
   "source": [
    "page = urls.url[1]\n",
    "page"
   ]
  },
  {
   "cell_type": "code",
   "execution_count": null,
   "metadata": {},
   "outputs": [],
   "source": [
    "soup = BeautifulSoup(get(page, headers = headers).text)\n"
   ]
  },
  {
   "cell_type": "code",
   "execution_count": null,
   "metadata": {},
   "outputs": [],
   "source": [
    "soup.select_one('.language-color').text"
   ]
  },
  {
   "cell_type": "code",
   "execution_count": null,
   "metadata": {},
   "outputs": [],
   "source": [
    "soup.select_one('.markdown-body').text"
   ]
  },
  {
   "cell_type": "code",
   "execution_count": null,
   "metadata": {},
   "outputs": [],
   "source": [
    "target = []\n",
    "readme = []\n",
    "for url in all_urls:\n",
    "    soup = BeautifulSoup(get(url, headers = headers).text)\n",
    "    target += [soup.select_one('.language-color').text]\n",
    "    readme += [soup.select_one('.markdown-body').text]"
   ]
  },
  {
   "cell_type": "code",
   "execution_count": null,
   "metadata": {},
   "outputs": [],
   "source": [
    "readme"
   ]
  },
  {
   "cell_type": "code",
   "execution_count": 8,
   "metadata": {},
   "outputs": [],
   "source": [
    "import prep"
   ]
  },
  {
   "cell_type": "code",
   "execution_count": null,
   "metadata": {},
   "outputs": [],
   "source": [
    "\n",
    "readmes = pd.DataFrame(target, columns=['target'])\n",
    "readmes['readme'] = readme\n",
    "#readmes.to_csv('ugly_data.csv')"
   ]
  },
  {
   "cell_type": "code",
   "execution_count": 11,
   "metadata": {},
   "outputs": [],
   "source": [
    "readmes = pd.read_csv('ugly_data.csv', index_col=0)\n",
    "readmes['clean'] = readmes.readme.apply(prep.basic_clean)\n"
   ]
  },
  {
   "cell_type": "code",
   "execution_count": 12,
   "metadata": {},
   "outputs": [
    {
     "data": {
      "text/plain": [
       "\"freecodecamporg's opensource codebase and curriculum freecodecamporg is a friendly community where you can learn to code for free it is run by a donorsupported 501c3 nonprofit to help  millions of busy adults transition into tech our community has already helped more than 10000 people get their first developer job our fullstack web development curriculum is completely free and selfpaced we have thousands of interactive coding challenges to help you expand your skills table of contents certifications the learning platform reporting bugs and issues reporting security issues contributing platform build and deployment status license certifications freecodecamporg offers several free developer certifications each of these certifications involves building 5 required web app projects along with hundreds of optional coding challenges to help you prepare for those projects we estimate that each certification will take a beginning programmer around 300 hours to earn each of these 30 projects in the freecodecamporg curriculum has its own agile user stories and automated tests these help you build up your project incrementally and ensure you've fulfilled all the user stories before you submit it you can pull in these test suites through freecodecamp's cdn this means you can build these projects on websites like codepen and glitch  or even on your local computer's development environment once youve earned a certification you will always have it you will always be able to link to it from your linkedin or resume and when your prospective employers or freelance clients click that link theyll see a verified certification specific to you the one exception to this is if we discover violations of our academic honesty policy when we catch people unambiguously plagiarizing submitting other people's code or projects as their own without citation we do what all rigorous institutions of learning should do  we revoke their certifications and ban those people here are our six core certifications 1 responsive web design certification basic html and html5 basic css applied visual design applied accessibility responsive web design principles css flexbox css grid projects tribute page survey form product landing page technical documentation page personal portfolio webpage 2 javascript algorithms and data structures certification basic javascript es6 regular expressions debugging basic data structures algorithm scripting objectoriented programming functional programming intermediate algorithm scripting projects palindrome checker roman numeral converter caesar's cipher telephone number validator cash register 3 front end libraries certification bootstrap jquery sass react redux react and redux projects random quote machine markdown previewer drum machine javascript calculator pomodoro clock 4 data visualization certification data visualization with d3 json apis and ajax projects bar chart scatterplot graph heat map choropleth map treemap diagram 5 apis and microservices certification managing packages with npm basic node and express mongodb and mongoose projects timestamp microservice request header parser url shortener exercise tracker file metadata microservice 6 information security and quality assurance certification information security with helmetjs quality assurance and testing with chai advanced node and express projects metricimperial converter issue tracker personal library stock price checker anonymous message board full stack development certification once you have earned all 6 of these certifications you'll be able to claim your freecodecamporg full stack development certification this final distinction signifies that youve completed around 1800 hours of coding with a wide range of web development tools legacy certifications we also have 3 legacy certifications from our 2015 curriculum which are still available all of the required projects for these legacy certifications will remain available on freecodecamporg legacy front end development certification legacy data visualization certification legacy back end development certification the learning platform this code is running live at freecodecamporg our community also has a forum where you can usually get programming help or project feedback within hours a youtube channel with free courses on python sql android and a wide variety of other technologies a podcast with technology insights and inspiring stories from developers a developer news publication a free open source noads place to crosspost your blog articles join our community here reporting bugs and issues if you think you've found a bug first read the how to report a bug article and follow its instructions if you're confident it's a new bug and have confirmed that someone else is facing the same issue go ahead and create a new github issue be sure to include as much information as possible so we can reproduce the bug reporting security issues if you think you have found a vulnerability please report responsibly don't create github issues for security issues instead please send an email to securityfreecodecamporg and we'll look into it immediately contributing please follow these steps to contribute platform build and deployment status the general platform status for all our applications is available at statusfreecodecamporg the build and deployment status for the code is available in our devops guide license copyright  2019 freecodecamporg the content of this repository is bound by the following licenses the computer software is licensed under the bsd3clause license the learning resources in the curriculum directory including their subdirectories thereon are licensed under the ccbysa40 license\""
      ]
     },
     "execution_count": 12,
     "metadata": {},
     "output_type": "execute_result"
    }
   ],
   "source": [
    "readmes.clean[0]"
   ]
  },
  {
   "cell_type": "code",
   "execution_count": null,
   "metadata": {},
   "outputs": [],
   "source": []
  }
 ],
 "metadata": {
  "kernelspec": {
   "display_name": "Python 3",
   "language": "python",
   "name": "python3"
  },
  "language_info": {
   "codemirror_mode": {
    "name": "ipython",
    "version": 3
   },
   "file_extension": ".py",
   "mimetype": "text/x-python",
   "name": "python",
   "nbconvert_exporter": "python",
   "pygments_lexer": "ipython3",
   "version": "3.7.3"
  }
 },
 "nbformat": 4,
 "nbformat_minor": 2
}
