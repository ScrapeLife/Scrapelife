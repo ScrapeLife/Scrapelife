{
 "cells": [
  {
   "cell_type": "code",
   "execution_count": 126,
   "metadata": {},
   "outputs": [],
   "source": [
    "import unicodedata\n",
    "import re\n",
    "import json\n",
    "\n",
    "import nltk\n",
    "from nltk.tokenize.toktok import ToktokTokenizer\n",
    "from nltk.corpus import stopwords\n",
    "\n",
    "import pandas as pd\n",
    "\n",
    "import prep"
   ]
  },
  {
   "cell_type": "code",
   "execution_count": 143,
   "metadata": {},
   "outputs": [
    {
     "data": {
      "text/html": [
       "<div>\n",
       "<style scoped>\n",
       "    .dataframe tbody tr th:only-of-type {\n",
       "        vertical-align: middle;\n",
       "    }\n",
       "\n",
       "    .dataframe tbody tr th {\n",
       "        vertical-align: top;\n",
       "    }\n",
       "\n",
       "    .dataframe thead th {\n",
       "        text-align: right;\n",
       "    }\n",
       "</style>\n",
       "<table border=\"1\" class=\"dataframe\">\n",
       "  <thead>\n",
       "    <tr style=\"text-align: right;\">\n",
       "      <th></th>\n",
       "      <th>language</th>\n",
       "      <th>readme_contents</th>\n",
       "      <th>repo</th>\n",
       "    </tr>\n",
       "  </thead>\n",
       "  <tbody>\n",
       "    <tr>\n",
       "      <th>0</th>\n",
       "      <td>JavaScript</td>\n",
       "      <td>![freeCodeCamp.org Social Banner](https://s3.a...</td>\n",
       "      <td>freeCodeCamp/freeCodeCamp</td>\n",
       "    </tr>\n",
       "    <tr>\n",
       "      <th>1</th>\n",
       "      <td>JavaScript</td>\n",
       "      <td>&lt;p align=\"center\"&gt;&lt;a href=\"https://vuejs.org\" ...</td>\n",
       "      <td>vuejs/vue</td>\n",
       "    </tr>\n",
       "    <tr>\n",
       "      <th>2</th>\n",
       "      <td>JavaScript</td>\n",
       "      <td># [React](https://reactjs.org/) &amp;middot; [![Gi...</td>\n",
       "      <td>facebook/react</td>\n",
       "    </tr>\n",
       "    <tr>\n",
       "      <th>3</th>\n",
       "      <td>JavaScript</td>\n",
       "      <td>&lt;p align=\"center\"&gt;\\n  &lt;a href=\"https://getboot...</td>\n",
       "      <td>twbs/bootstrap</td>\n",
       "    </tr>\n",
       "    <tr>\n",
       "      <th>4</th>\n",
       "      <td>JavaScript</td>\n",
       "      <td># Airbnb JavaScript Style Guide() {\\n\\n*A most...</td>\n",
       "      <td>airbnb/javascript</td>\n",
       "    </tr>\n",
       "  </tbody>\n",
       "</table>\n",
       "</div>"
      ],
      "text/plain": [
       "     language                                    readme_contents  \\\n",
       "0  JavaScript  ![freeCodeCamp.org Social Banner](https://s3.a...   \n",
       "1  JavaScript  <p align=\"center\"><a href=\"https://vuejs.org\" ...   \n",
       "2  JavaScript  # [React](https://reactjs.org/) &middot; [![Gi...   \n",
       "3  JavaScript  <p align=\"center\">\\n  <a href=\"https://getboot...   \n",
       "4  JavaScript  # Airbnb JavaScript Style Guide() {\\n\\n*A most...   \n",
       "\n",
       "                        repo  \n",
       "0  freeCodeCamp/freeCodeCamp  \n",
       "1                  vuejs/vue  \n",
       "2             facebook/react  \n",
       "3             twbs/bootstrap  \n",
       "4          airbnb/javascript  "
      ]
     },
     "execution_count": 143,
     "metadata": {},
     "output_type": "execute_result"
    }
   ],
   "source": [
    "df= pd.read_json('data.json')\n",
    "df.head()"
   ]
  },
  {
   "cell_type": "code",
   "execution_count": 144,
   "metadata": {},
   "outputs": [
    {
     "data": {
      "text/html": [
       "<div>\n",
       "<style scoped>\n",
       "    .dataframe tbody tr th:only-of-type {\n",
       "        vertical-align: middle;\n",
       "    }\n",
       "\n",
       "    .dataframe tbody tr th {\n",
       "        vertical-align: top;\n",
       "    }\n",
       "\n",
       "    .dataframe thead th {\n",
       "        text-align: right;\n",
       "    }\n",
       "</style>\n",
       "<table border=\"1\" class=\"dataframe\">\n",
       "  <thead>\n",
       "    <tr style=\"text-align: right;\">\n",
       "      <th></th>\n",
       "      <th>language</th>\n",
       "      <th>readme_contents</th>\n",
       "      <th>repo</th>\n",
       "    </tr>\n",
       "  </thead>\n",
       "  <tbody>\n",
       "    <tr>\n",
       "      <th>0</th>\n",
       "      <td>javascript</td>\n",
       "      <td>freecodecamporg social bannerhttpssamazonawsco...</td>\n",
       "      <td>freecodecampfreecodecamp</td>\n",
       "    </tr>\n",
       "    <tr>\n",
       "      <th>1</th>\n",
       "      <td>javascript</td>\n",
       "      <td>p aligncentera hrefhttpsvuejsorg targetblank r...</td>\n",
       "      <td>vuejsvue</td>\n",
       "    </tr>\n",
       "    <tr>\n",
       "      <th>2</th>\n",
       "      <td>javascript</td>\n",
       "      <td>reacthttpsreactjsorg middot github licensehttp...</td>\n",
       "      <td>facebookreact</td>\n",
       "    </tr>\n",
       "    <tr>\n",
       "      <th>3</th>\n",
       "      <td>javascript</td>\n",
       "      <td>p aligncenter hrefhttpsgetbootstrapcom img src...</td>\n",
       "      <td>twbsbootstrap</td>\n",
       "    </tr>\n",
       "    <tr>\n",
       "      <th>4</th>\n",
       "      <td>javascript</td>\n",
       "      <td>airbnb javascript style guide mostly reasonabl...</td>\n",
       "      <td>airbnbjavascript</td>\n",
       "    </tr>\n",
       "  </tbody>\n",
       "</table>\n",
       "</div>"
      ],
      "text/plain": [
       "     language                                    readme_contents  \\\n",
       "0  javascript  freecodecamporg social bannerhttpssamazonawsco...   \n",
       "1  javascript  p aligncentera hrefhttpsvuejsorg targetblank r...   \n",
       "2  javascript  reacthttpsreactjsorg middot github licensehttp...   \n",
       "3  javascript  p aligncenter hrefhttpsgetbootstrapcom img src...   \n",
       "4  javascript  airbnb javascript style guide mostly reasonabl...   \n",
       "\n",
       "                       repo  \n",
       "0  freecodecampfreecodecamp  \n",
       "1                  vuejsvue  \n",
       "2             facebookreact  \n",
       "3             twbsbootstrap  \n",
       "4          airbnbjavascript  "
      ]
     },
     "execution_count": 144,
     "metadata": {},
     "output_type": "execute_result"
    }
   ],
   "source": [
    "df=pd.DataFrame(df)\n",
    "\n",
    "df=prep.basic_clean(df)\n",
    "df.head()"
   ]
  },
  {
   "cell_type": "code",
   "execution_count": 145,
   "metadata": {},
   "outputs": [],
   "source": [
    "#Remove characters between [] and <>\n",
    "df.readme_contents\n",
    "for contents in df.readme_contents:\n",
    "    re.sub(r\" ?\\([^)]+\\)\", \"\", contents)\n",
    "    re.sub(r\" ?\\(<^>]+\\)\", \"\", contents)\n"
   ]
  },
  {
   "cell_type": "code",
   "execution_count": 151,
   "metadata": {},
   "outputs": [],
   "source": [
    "df.to_csv('test.csv')"
   ]
  },
  {
   "cell_type": "code",
   "execution_count": 147,
   "metadata": {},
   "outputs": [],
   "source": [
    "df1=prep.basic_clean(df)"
   ]
  },
  {
   "cell_type": "code",
   "execution_count": 112,
   "metadata": {},
   "outputs": [
    {
     "data": {
      "text/plain": [
       "'p aligncentera hrefhttpsvuejsorg targetblank relnoopener noreferrerimg width srchttpsvuejsorgimageslogopng altvue logoap p aligncenter hrefhttpscirclecicomghvuejsvuetreedevimg srchttpsimgshieldsiocircleciprojectgithubvuejsvuedevsvg altbuild statusa hrefhttpscodecoviogithubvuejsvuebranchdevimg srchttpsimgshieldsiocodecovcgithubvuejsvuedevsvg altcoverage statusa hrefhttpsnpmchartscomcomparevueminimaltrueimg srchttpsimgshieldsionpmdmvuesvg altdownloadsa hrefhttpswwwnpmjscompackagevueimg srchttpsimgshieldsionpmvvuesvg altversiona hrefhttpswwwnpmjscompackagevueimg srchttpsimgshieldsionpmlvuesvg altlicensea hrefhttpschatvuejsorgimg srchttpsimgshieldsiobadgechatondiscorddasvg altchata br hrefhttpsappsaucelabscombuildsfdfabfbcacacimg srchttpsappsaucelabscombuildstatusvuejs altbuild statusa p h aligncentersupporting vuejsh vuejs mitlicensed open source project ongoing development made possible entirely support awesome backershttpsgithubcomvuejsvueblobdevbackersmd youd like join please consider become backer sponsor patreonhttpswwwpatreoncomevanyou become backer sponsor open collectivehttpsopencollectivecomvuejs onetime donation via paypal cryptocurrencieshttpsvuejsorgsupportvuejsonetimedonations whats difference patreon opencollective fund donated via patreon go directly support evan yous fulltime work vuejs fund donated via opencollective managed transparent expense used compensating work expense core team member sponsoring community event namelogo receive proper recognition exposure donating either platform h aligncenterspecial sponsorsh special start p aligncenter hrefhttpsstdlibcom targetblank img widthpx srchttpsrawgithubusercontentcomvuejsvuejsorgmasterthemesvuesourceimagesstdlibpng p special end h aligncenterplatinum sponsorsh platinum start table tbody tr td aligncenter valignmiddle hrefhttpsvueschoolioutmsourcevuejsorgutmmediumbannerutmcampaignsponsoredbannerutmcontentv targetblank img widthpx srchttpsrawgithubusercontentcomvuejsvuejsorgmasterthemesvuesourceimagesvueschoolpng td td aligncenter valignmiddle hrefhttpsvehiklcom targetblank img widthpx srchttpsrawgithubusercontentcomvuejsvuejsorgmasterthemesvuesourceimagesvehiklpng td td aligncenter valignmiddle hrefhttpswwwnativescriptorgvueutmsourcevuejsorgutmmediumwebsiteutmcampaignnativescriptawareness targetblank img widthpx srchttpsrawgithubusercontentcomvuejsvuejsorgmasterthemesvuesourceimagesnativescriptpng td td aligncenter valignmiddle hrefhttpsretoolcomutmsourcesponsorutmcampaignvue targetblank img widthpx srchttpsrawgithubusercontentcomvuejsvuejsorgmasterthemesvuesourceimagesretoolpng td trtrtr tbody table platinum end specialchina start h aligncenterplatinum sponsor chinah table tbody tr td aligncenter valignmiddle hrefhttpwwwdcloudiohmsrvuejsorghmplhmcuhmkwhmci targetblank img widthpx srchttpsrawgithubusercontentcomvuejsvuejsorgmasterthemesvuesourceimagesdcloudgif td trtrtr tbody table specialchina end h aligncentergold sponsorsh gold start table tbody tr td aligncenter valignmiddle hrefhttpswwwvuemasterycom targetblank img widthpx srchttpsrawgithubusercontentcomvuejsvuejsorgmasterthemesvuesourceimagesvuemasterypng td td aligncenter valignmiddle hrefhttpslaravelcom targetblank img widthpx srchttpsrawgithubusercontentcomvuejsvuejsorgmasterthemesvuesourceimageslaravelpng td td aligncenter valignmiddle hrefhttpschaitincnen targetblank img widthpx srchttpsrawgithubusercontentcomvuejsvuejsorgmasterthemesvuesourceimageschaitinpng td td aligncenter valignmiddle hrefhttpshtmlburgercom targetblank img widthpx srchttpsrawgithubusercontentcomvuejsvuejsorgmasterthemesvuesourceimageshtmlburgerpng td td aligncenter valignmiddle hrefhttpswwwfrontenddeveloperlovecom targetblank img widthpx srchttpsrawgithubusercontentcomvuejsvuejsorgmasterthemesvuesourceimagesfrontendlovepng td td aligncenter valignmiddle hrefhttpsonseniovue targetblank img widthpx srchttpsrawgithubusercontentcomvuejsvuejsorgmasterthemesvuesourceimagesonsenuipng td trtrtr tr td aligncenter valignmiddle hrefhttpsnedscomau targetblank img widthpx srchttpsrawgithubusercontentcomvuejsvuejsorgmasterthemesvuesourceimagesnedspng td td aligncenter valignmiddle hrefhttpsiconscom targetblank img widthpx srchttpsrawgithubusercontentcomvuejsvuejsorgmasterthemesvuesourceimagesiconspng td td aligncenter valignmiddle hrefhttpsvuejobscomrefvuejs targetblank img widthpx srchttpsrawgithubusercontentcomvuejsvuejsorgmasterthemesvuesourceimagesvuejobspng td td aligncenter valignmiddle hrefhttpstideliftcomsubscriptionnpmvue targetblank img widthpx srchttpsrawgithubusercontentcomvuejsvuejsorgmasterthemesvuesourceimagestideliftpng td td aligncenter valignmiddle hrefhttpsopteocomvue targetblank img widthpx srchttpsrawgithubusercontentcomvuejsvuejsorgmasterthemesvuesourceimagesopteopng td td aligncenter valignmiddle hrefhttpsdevsquadcom targetblank img widthpx srchttpsrawgithubusercontentcomvuejsvuejsorgmasterthemesvuesourceimagesdevsquadpng td trtrtr tr td aligncenter valignmiddle hrefhttpswwwfiresticktrickscom targetblank img widthpx srchttpsrawgithubusercontentcomvuejsvuejsorgmasterthemesvuesourceimagesfiresticktrickspng td td aligncenter valignmiddle hrefhttpsintygratecom targetblank img widthpx srchttpsrawgithubusercontentcomvuejsvuejsorgmasterthemesvuesourceimagesintygratepng td td aligncenter valignmiddle hrefhttpspassionatepeopleio targetblank img widthpx srchttpsrawgithubusercontentcomvuejsvuejsorgmasterthemesvuesourceimagespassionatepeoplepng td td aligncenter valignmiddle hrefhttpenshopwarecom targetblank img widthpx srchttpsrawgithubusercontentcomvuejsvuejsorgmasterthemesvuesourceimagesshopwareagpng td td aligncenter valignmiddle hrefhttpswwwvpnrankscom targetblank img widthpx srchttpsrawgithubusercontentcomvuejsvuejsorgmasterthemesvuesourceimagesvpnrankspng td td aligncenter valignmiddle hrefhttpswwwsimplyswitchcom targetblank img widthpx srchttpsrawgithubusercontentcomvuejsvuejsorgmasterthemesvuesourceimagesenergycomparisonpng td trtrtr tr td aligncenter valignmiddle hrefhttpswwwbacancytechnologycom targetblank img widthpx srchttpsrawgithubusercontentcomvuejsvuejsorgmasterthemesvuesourceimagesbacancytechnologypng td td aligncenter valignmiddle hrefhttpswwwbestvpnco targetblank img widthpx srchttpsrawgithubusercontentcomvuejsvuejsorgmasterthemesvuesourceimagesbestvpncopng td td aligncenter valignmiddle hrefhttpswwwycom targetblank img widthpx srchttpsrawgithubusercontentcomvuejsvuejsorgmasterthemesvuesourceimagesypng td td aligncenter valignmiddle hrefhttpsjsdevexpresscom targetblank img widthpx srchttpsrawgithubusercontentcomvuejsvuejsorgmasterthemesvuesourceimagesdevexpresspng td td aligncenter valignmiddle hrefhttpsfastcodingjpjavascript targetblank img widthpx srchttpsrawgithubusercontentcomvuejsvuejsorgmasterthemesvuesourceimagesfastcodingincsvg td td aligncenter valignmiddle hrefhttpsusavecoukutilitiesbroadband targetblank img widthpx srchttpsrawgithubusercontentcomvuejsvuejsorgmasterthemesvuesourceimagesusavepng td trtrtr tr td aligncenter valignmiddle hrefhttpswwwdailynowco targetblank img widthpx srchttpsrawgithubusercontentcomvuejsvuejsorgmasterthemesvuesourceimagesdailypng td td aligncenter valignmiddle hrefhttpsstorekitcom targetblank img widthpx srchttpsrawgithubusercontentcomvuejsvuejsorgmasterthemesvuesourceimagesstorekitpng td td aligncenter valignmiddle hrefhttpwwwpullrequestcom targetblank img widthpx srchttpsrawgithubusercontentcomvuejsvuejsorgmasterthemesvuesourceimagespullrequestsvg td td aligncenter valignmiddle hrefhttpsunicornio targetblank img widthpx srchttpsrawgithubusercontentcomvuejsvuejsorgmasterthemesvuesourceimagesunicorniosvg td td aligncenter valignmiddle hrefhttpsthepiratebayproxylistse targetblank img widthpx srchttpsrawgithubusercontentcomvuejsvuejsorgmasterthemesvuesourceimagespiratebayproxypng td td aligncenter valignmiddle hrefhttpswwwprogrammersio targetblank img widthpx srchttpsrawgithubusercontentcomvuejsvuejsorgmasterthemesvuesourceimagesprogrammersiopng td trtrtr tbody table gold end h aligncentersponsors via hrefhttpsopencollectivecomvuejsopen collectiveah h aligncenterplatinumh hrefhttpsopencollectivecomvuejstiersplatinumsponsorswebsite targetblank relnoopener noreferrerimg srchttpsopencollectivecomvuejstiersplatinumsponsorsavatarsvga hrefhttpsopencollectivecomvuejstiersplatinumsponsorswebsite targetblank relnoopener noreferrerimg srchttpsopencollectivecomvuejstiersplatinumsponsorsavatarsvga h aligncentergoldh hrefhttpsopencollectivecomvuejstiersgoldsponsorswebsite targetblank relnoopener noreferrerimg srchttpsopencollectivecomvuejstiersgoldsponsorsavatarsvg heightpxa hrefhttpsopencollectivecomvuejstiersgoldsponsorswebsite targetblank relnoopener noreferrerimg srchttpsopencollectivecomvuejstiersgoldsponsorsavatarsvg heightpxa hrefhttpsopencollectivecomvuejstiersgoldsponsorswebsite targetblank relnoopener noreferrerimg srchttpsopencollectivecomvuejstiersgoldsponsorsavatarsvg heightpxa hrefhttpsopencollectivecomvuejstiersgoldsponsorswebsite targetblank relnoopener noreferrerimg srchttpsopencollectivecomvuejstiersgoldsponsorsavatarsvg heightpxa hrefhttpsopencollectivecomvuejstiersgoldsponsorswebsite targetblank relnoopener noreferrerimg srchttpsopencollectivecomvuejstiersgoldsponsorsavatarsvg heightpxa introduction vue pronounced vju like view progressive framework building user interface designed ground incrementally adoptable easily scale library framework depending different use case consists approachable core library focus view layer ecosystem supporting library help tackle complexity large singlepage application browser compatibility vuejs support browser escomplianthttpkangaxgithubiocompattablees ie supported ecosystem project status description vuerouter vuerouterstatusvuerouterpackage singlepage application routing vuex vuexstatusvuexpackage largescale state management vuecli vueclistatusvueclipackage project scaffolding vueloader vueloaderstatusvueloaderpackage single file component vue file loader webpack vueserverrenderer vueserverrendererstatusvueserverrendererpackage serverside rendering support vueclasscomponent vueclasscomponentstatusvueclasscomponentpackage typescript decorator classbased api vuerx vuerxstatusvuerxpackage rxjs integration vuedevtools vuedevtoolsstatusvuedevtoolspackage browser devtools extension vuerouter httpsgithubcomvuejsvuerouter vuex httpsgithubcomvuejsvuex vuecli httpsgithubcomvuejsvuecli vueloader httpsgithubcomvuejsvueloader vueserverrenderer httpsgithubcomvuejsvuetreedevpackagesvueserverrenderer vueclasscomponent httpsgithubcomvuejsvueclasscomponent vuerx httpsgithubcomvuejsvuerx vuedevtools httpsgithubcomvuejsvuedevtools vuerouterstatus httpsimgshieldsionpmvvueroutersvg vuexstatus httpsimgshieldsionpmvvuexsvg vueclistatus httpsimgshieldsionpmvvueclisvg vueloaderstatus httpsimgshieldsionpmvvueloadersvg vueserverrendererstatus httpsimgshieldsionpmvvueserverrenderersvg vueclasscomponentstatus httpsimgshieldsionpmvvueclasscomponentsvg vuerxstatus httpsimgshieldsionpmvvuerxsvg vuedevtoolsstatus httpsimgshieldsiochromewebstorevnhdogjmejiglipccpnnnanhbledajbpdsvg vuerouterpackage httpsnpmjscompackagevuerouter vuexpackage httpsnpmjscompackagevuex vueclipackage httpsnpmjscompackagevuecli vueloaderpackage httpsnpmjscompackagevueloader vueserverrendererpackage httpsnpmjscompackagevueserverrenderer vueclasscomponentpackage httpsnpmjscompackagevueclasscomponent vuerxpackage httpsnpmjscompackagevuerx vuedevtoolspackage httpschromegooglecomwebstoredetailvuejsdevtoolsnhdogjmejiglipccpnnnanhbledajbpd documentation check live exampleshttpsvuejsorgvexamples doc visit vuejsorghttpsvuejsorg question question support please use official forumhttpforumvuejsorg community chathttpschatvuejsorg issue list repo exclusively bug report feature request issue please make sure read issue reporting checklisthttpsgithubcomvuejsvueblobdevgithubcontributingmdissuereportingguidelines opening issue issue conforming guideline may closed immediately changelog detailed change release documented release noteshttpsgithubcomvuejsvuereleases stay touch twitterhttpstwittercomvuejs bloghttpsmediumcomthevuepoint job boardhttpsvuejobscomrefvuejs contribution please make sure read contributing guidehttpsgithubcomvuejsvueblobdevgithubcontributingmd making pull request vuerelated projectcomponenttool add pull request curated listhttpsgithubcomvuejsawesomevue thank people already contributed vue hrefhttpsgithubcomvuejsvuegraphscontributorsimg srchttpsopencollectivecomvuejscontributorssvgwidth license mithttpopensourceorglicensesmit copyright c present yuxi evan'"
      ]
     },
     "execution_count": 112,
     "metadata": {},
     "output_type": "execute_result"
    }
   ],
   "source": [
    "df1.readme_contents[1]"
   ]
  },
  {
   "cell_type": "code",
   "execution_count": null,
   "metadata": {},
   "outputs": [],
   "source": []
  },
  {
   "cell_type": "code",
   "execution_count": 105,
   "metadata": {},
   "outputs": [
    {
     "data": {
      "text/html": [
       "<div>\n",
       "<style scoped>\n",
       "    .dataframe tbody tr th:only-of-type {\n",
       "        vertical-align: middle;\n",
       "    }\n",
       "\n",
       "    .dataframe tbody tr th {\n",
       "        vertical-align: top;\n",
       "    }\n",
       "\n",
       "    .dataframe thead th {\n",
       "        text-align: right;\n",
       "    }\n",
       "</style>\n",
       "<table border=\"1\" class=\"dataframe\">\n",
       "  <thead>\n",
       "    <tr style=\"text-align: right;\">\n",
       "      <th></th>\n",
       "      <th>n</th>\n",
       "      <th>percent</th>\n",
       "    </tr>\n",
       "  </thead>\n",
       "  <tbody>\n",
       "    <tr>\n",
       "      <th>python</th>\n",
       "      <td>130</td>\n",
       "      <td>0.25</td>\n",
       "    </tr>\n",
       "    <tr>\n",
       "      <th>javascript</th>\n",
       "      <td>130</td>\n",
       "      <td>0.25</td>\n",
       "    </tr>\n",
       "    <tr>\n",
       "      <th>java</th>\n",
       "      <td>130</td>\n",
       "      <td>0.25</td>\n",
       "    </tr>\n",
       "    <tr>\n",
       "      <th>php</th>\n",
       "      <td>130</td>\n",
       "      <td>0.25</td>\n",
       "    </tr>\n",
       "  </tbody>\n",
       "</table>\n",
       "</div>"
      ],
      "text/plain": [
       "              n  percent\n",
       "python      130     0.25\n",
       "javascript  130     0.25\n",
       "java        130     0.25\n",
       "php         130     0.25"
      ]
     },
     "execution_count": 105,
     "metadata": {},
     "output_type": "execute_result"
    }
   ],
   "source": [
    "#Breakdown of languages within the DataFramne\n",
    "languages = pd.concat([df.language.value_counts(),\n",
    "                    df.language.value_counts(normalize=True)], axis=1)\n",
    "languages.columns = ['n', 'percent']\n",
    "languages"
   ]
  },
  {
   "cell_type": "code",
   "execution_count": 107,
   "metadata": {},
   "outputs": [
    {
     "ename": "TypeError",
     "evalue": "string indices must be integers",
     "output_type": "error",
     "traceback": [
      "\u001b[0;31m---------------------------------------------------------------------------\u001b[0m",
      "\u001b[0;31mTypeError\u001b[0m                                 Traceback (most recent call last)",
      "\u001b[0;32m<ipython-input-107-39db7ce0ee3b>\u001b[0m in \u001b[0;36m<module>\u001b[0;34m\u001b[0m\n\u001b[0;32m----> 1\u001b[0;31m \u001b[0mpython\u001b[0m \u001b[0;34m=\u001b[0m \u001b[0mprep\u001b[0m\u001b[0;34m.\u001b[0m\u001b[0mbasic_clean\u001b[0m\u001b[0;34m(\u001b[0m\u001b[0;34m' '\u001b[0m\u001b[0;34m.\u001b[0m\u001b[0mjoin\u001b[0m\u001b[0;34m(\u001b[0m\u001b[0mdf\u001b[0m\u001b[0;34m[\u001b[0m\u001b[0mdf\u001b[0m\u001b[0;34m.\u001b[0m\u001b[0mlanguage\u001b[0m \u001b[0;34m==\u001b[0m \u001b[0;34m'python'\u001b[0m\u001b[0;34m]\u001b[0m\u001b[0;34m)\u001b[0m\u001b[0;34m)\u001b[0m\u001b[0;34m\u001b[0m\u001b[0;34m\u001b[0m\u001b[0m\n\u001b[0m\u001b[1;32m      2\u001b[0m \u001b[0mjavascript\u001b[0m \u001b[0;34m=\u001b[0m \u001b[0mprep\u001b[0m\u001b[0;34m.\u001b[0m\u001b[0mbasic_clean\u001b[0m\u001b[0;34m(\u001b[0m\u001b[0;34m' '\u001b[0m\u001b[0;34m.\u001b[0m\u001b[0mjoin\u001b[0m\u001b[0;34m(\u001b[0m\u001b[0mdf\u001b[0m\u001b[0;34m[\u001b[0m\u001b[0mdf\u001b[0m\u001b[0;34m.\u001b[0m\u001b[0mlanguage\u001b[0m \u001b[0;34m==\u001b[0m \u001b[0;34m'javascript'\u001b[0m\u001b[0;34m]\u001b[0m\u001b[0;34m.\u001b[0m\u001b[0mtext\u001b[0m\u001b[0;34m)\u001b[0m\u001b[0;34m)\u001b[0m\u001b[0;34m\u001b[0m\u001b[0;34m\u001b[0m\u001b[0m\n\u001b[1;32m      3\u001b[0m \u001b[0mjava\u001b[0m \u001b[0;34m=\u001b[0m \u001b[0mprep\u001b[0m\u001b[0;34m.\u001b[0m\u001b[0mbasic_clean\u001b[0m\u001b[0;34m(\u001b[0m\u001b[0;34m' '\u001b[0m\u001b[0;34m.\u001b[0m\u001b[0mjoin\u001b[0m\u001b[0;34m(\u001b[0m\u001b[0mdf\u001b[0m\u001b[0;34m[\u001b[0m\u001b[0mdf\u001b[0m\u001b[0;34m.\u001b[0m\u001b[0mlanguage\u001b[0m \u001b[0;34m==\u001b[0m \u001b[0;34m'java'\u001b[0m\u001b[0;34m]\u001b[0m\u001b[0;34m.\u001b[0m\u001b[0mtext\u001b[0m\u001b[0;34m)\u001b[0m\u001b[0;34m)\u001b[0m\u001b[0;34m\u001b[0m\u001b[0;34m\u001b[0m\u001b[0m\n\u001b[1;32m      4\u001b[0m \u001b[0mphp\u001b[0m \u001b[0;34m=\u001b[0m \u001b[0mprep\u001b[0m\u001b[0;34m.\u001b[0m\u001b[0mbasic_clean\u001b[0m\u001b[0;34m(\u001b[0m\u001b[0;34m' '\u001b[0m\u001b[0;34m.\u001b[0m\u001b[0mjoin\u001b[0m\u001b[0;34m(\u001b[0m\u001b[0mdf\u001b[0m\u001b[0;34m[\u001b[0m\u001b[0mdf\u001b[0m\u001b[0;34m.\u001b[0m\u001b[0mlanguage\u001b[0m \u001b[0;34m==\u001b[0m \u001b[0;34m'php'\u001b[0m\u001b[0;34m]\u001b[0m\u001b[0;34m.\u001b[0m\u001b[0mtext\u001b[0m\u001b[0;34m)\u001b[0m\u001b[0;34m)\u001b[0m\u001b[0;34m\u001b[0m\u001b[0;34m\u001b[0m\u001b[0m\n\u001b[1;32m      5\u001b[0m \u001b[0mall_words\u001b[0m \u001b[0;34m=\u001b[0m \u001b[0mprep\u001b[0m\u001b[0;34m.\u001b[0m\u001b[0mbasic_clean\u001b[0m\u001b[0;34m(\u001b[0m\u001b[0;34m' '\u001b[0m\u001b[0;34m.\u001b[0m\u001b[0mjoin\u001b[0m\u001b[0;34m(\u001b[0m\u001b[0mdf\u001b[0m\u001b[0;34m.\u001b[0m\u001b[0mtext\u001b[0m\u001b[0;34m)\u001b[0m\u001b[0;34m)\u001b[0m\u001b[0;34m\u001b[0m\u001b[0;34m\u001b[0m\u001b[0m\n",
      "\u001b[0;32m~/Scrapelife/prep.py\u001b[0m in \u001b[0;36mbasic_clean\u001b[0;34m(df, stem_or_lem)\u001b[0m\n\u001b[1;32m     48\u001b[0m \u001b[0;32mdef\u001b[0m \u001b[0mbasic_clean\u001b[0m\u001b[0;34m(\u001b[0m\u001b[0mdf\u001b[0m\u001b[0;34m,\u001b[0m \u001b[0mstem_or_lem\u001b[0m \u001b[0;34m=\u001b[0m \u001b[0;34m'lemmatize'\u001b[0m\u001b[0;34m)\u001b[0m\u001b[0;34m:\u001b[0m\u001b[0;34m\u001b[0m\u001b[0;34m\u001b[0m\u001b[0m\n\u001b[1;32m     49\u001b[0m     \u001b[0;32mfor\u001b[0m \u001b[0mcol\u001b[0m \u001b[0;32min\u001b[0m \u001b[0mdf\u001b[0m\u001b[0;34m:\u001b[0m\u001b[0;34m\u001b[0m\u001b[0;34m\u001b[0m\u001b[0m\n\u001b[0;32m---> 50\u001b[0;31m         \u001b[0mdf\u001b[0m\u001b[0;34m[\u001b[0m\u001b[0mcol\u001b[0m\u001b[0;34m]\u001b[0m \u001b[0;34m=\u001b[0m \u001b[0mdf\u001b[0m\u001b[0;34m[\u001b[0m\u001b[0mcol\u001b[0m\u001b[0;34m]\u001b[0m\u001b[0;34m.\u001b[0m\u001b[0mapply\u001b[0m\u001b[0;34m(\u001b[0m\u001b[0mpre_prep\u001b[0m\u001b[0;34m)\u001b[0m\u001b[0;34m\u001b[0m\u001b[0;34m\u001b[0m\u001b[0m\n\u001b[0m\u001b[1;32m     51\u001b[0m         \u001b[0mdf\u001b[0m\u001b[0;34m[\u001b[0m\u001b[0mcol\u001b[0m\u001b[0;34m]\u001b[0m \u001b[0;34m=\u001b[0m \u001b[0mdf\u001b[0m\u001b[0;34m[\u001b[0m\u001b[0mcol\u001b[0m\u001b[0;34m]\u001b[0m\u001b[0;34m.\u001b[0m\u001b[0mapply\u001b[0m\u001b[0;34m(\u001b[0m\u001b[0mremove_non_ascii\u001b[0m\u001b[0;34m)\u001b[0m\u001b[0;34m\u001b[0m\u001b[0;34m\u001b[0m\u001b[0m\n\u001b[1;32m     52\u001b[0m         \u001b[0mdf\u001b[0m\u001b[0;34m[\u001b[0m\u001b[0mcol\u001b[0m\u001b[0;34m]\u001b[0m \u001b[0;34m=\u001b[0m \u001b[0mdf\u001b[0m\u001b[0;34m[\u001b[0m\u001b[0mcol\u001b[0m\u001b[0;34m]\u001b[0m\u001b[0;34m.\u001b[0m\u001b[0mapply\u001b[0m\u001b[0;34m(\u001b[0m\u001b[0mremove_special_characters\u001b[0m\u001b[0;34m)\u001b[0m\u001b[0;34m\u001b[0m\u001b[0;34m\u001b[0m\u001b[0m\n",
      "\u001b[0;31mTypeError\u001b[0m: string indices must be integers"
     ]
    }
   ],
   "source": []
  },
  {
   "cell_type": "code",
   "execution_count": null,
   "metadata": {},
   "outputs": [],
   "source": [
    "python = prep.basic_clean(' '.join(df[df.language == 'python'].text))\n",
    "javascript = prep.basic_clean(' '.join(df[df.language == 'javascript'].text))\n",
    "java = prep.basic_clean(' '.join(df[df.language == 'java'].text))\n",
    "php = prep.basic_clean(' '.join(df[df.language == 'php'].text))\n",
    "all_words = prep.basic_clean(' '.join(df.text))"
   ]
  }
 ],
 "metadata": {
  "kernelspec": {
   "display_name": "Python 3",
   "language": "python",
   "name": "python3"
  },
  "language_info": {
   "codemirror_mode": {
    "name": "ipython",
    "version": 3
   },
   "file_extension": ".py",
   "mimetype": "text/x-python",
   "name": "python",
   "nbconvert_exporter": "python",
   "pygments_lexer": "ipython3",
   "version": "3.7.3"
  }
 },
 "nbformat": 4,
 "nbformat_minor": 2
}
