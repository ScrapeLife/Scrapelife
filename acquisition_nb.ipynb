{
 "cells": [
  {
   "cell_type": "code",
   "execution_count": 36,
   "metadata": {},
   "outputs": [],
   "source": [
    "from bs4 import BeautifulSoup\n",
    "from requests import get\n",
    "import warnings\n",
    "warnings.filterwarnings('ignore')\n",
    "import re\n",
    "import pandas as pd\n",
    "import time"
   ]
  },
  {
   "cell_type": "code",
   "execution_count": 5,
   "metadata": {},
   "outputs": [],
   "source": [
    "url = 'https://github.com/search?q=stars%3A%3E0&s=stars&type=Repositories'\n",
    "headers = {'User-Agent': 'Codeup Data Science Student'}\n",
    "raw_data = get(url, headers = headers).text\n",
    "soup = BeautifulSoup(raw_data)"
   ]
  },
  {
   "cell_type": "code",
   "execution_count": 6,
   "metadata": {},
   "outputs": [],
   "source": [
    "stuff = soup.select_one('.repo-list').select('.v-align-middle')"
   ]
  },
  {
   "cell_type": "code",
   "execution_count": 7,
   "metadata": {},
   "outputs": [
    {
     "data": {
      "text/plain": [
       "['freeCodeCamp/freeCodeCamp',\n",
       " '996icu/996.ICU',\n",
       " 'vuejs/vue',\n",
       " 'facebook/react',\n",
       " 'tensorflow/tensorflow',\n",
       " 'twbs/bootstrap',\n",
       " 'EbookFoundation/free-programming-books',\n",
       " 'sindresorhus/awesome',\n",
       " 'getify/You-Dont-Know-JS',\n",
       " 'ohmyzsh/ohmyzsh']"
      ]
     },
     "execution_count": 7,
     "metadata": {},
     "output_type": "execute_result"
    }
   ],
   "source": [
    "[x.text for x in stuff]"
   ]
  },
  {
   "cell_type": "code",
   "execution_count": 8,
   "metadata": {},
   "outputs": [
    {
     "data": {
      "text/plain": [
       "'/search?p=2&q=stars%3A%3E0&s=stars&type=Repositories'"
      ]
     },
     "execution_count": 8,
     "metadata": {},
     "output_type": "execute_result"
    }
   ],
   "source": [
    "next_page = soup.select_one('.next_page').get('href')\n",
    "next_page"
   ]
  },
  {
   "cell_type": "code",
   "execution_count": 42,
   "metadata": {},
   "outputs": [],
   "source": [
    "url = 'https://github.com/search?q=stars%3A%3E0&s=stars&type=Repositories'\n",
    "headers = {'User-Agent': 'Codeup Data Science Student'}\n",
    "urls = []\n",
    "while len(urls) <100:\n",
    "\n",
    "    raw_data = get(url, headers = headers).text\n",
    "    soup = BeautifulSoup(raw_data)\n",
    "    stuff = soup.select_one('.repo-list').select('.v-align-middle')\n",
    "    better_stuff = [x.text for x in stuff]\n",
    "    for url in better_stuff:\n",
    "        urls.append('github.com/' + url)\n",
    "        \n",
    "    next_page = soup.select_one('.next_page').get('href')\n",
    "    url= ('https://github.com' + next_page)\n",
    "    time.sleep(5)\n",
    "    \n",
    "    \n",
    "\n",
    "    \n",
    "    \n",
    "    \n",
    "    "
   ]
  },
  {
   "cell_type": "code",
   "execution_count": 43,
   "metadata": {},
   "outputs": [
    {
     "data": {
      "text/plain": [
       "['github.com/freeCodeCamp/freeCodeCamp',\n",
       " 'github.com/996icu/996.ICU',\n",
       " 'github.com/vuejs/vue',\n",
       " 'github.com/facebook/react',\n",
       " 'github.com/tensorflow/tensorflow',\n",
       " 'github.com/twbs/bootstrap',\n",
       " 'github.com/EbookFoundation/free-programming-books',\n",
       " 'github.com/sindresorhus/awesome',\n",
       " 'github.com/getify/You-Dont-Know-JS',\n",
       " 'github.com/ohmyzsh/ohmyzsh',\n",
       " 'github.com/jwasham/coding-interview-university',\n",
       " 'github.com/github/gitignore',\n",
       " 'github.com/kamranahmedse/developer-roadmap',\n",
       " 'github.com/airbnb/javascript',\n",
       " 'github.com/d3/d3',\n",
       " 'github.com/microsoft/vscode',\n",
       " 'github.com/CyC2018/CS-Notes',\n",
       " 'github.com/torvalds/linux',\n",
       " 'github.com/facebook/react-native',\n",
       " 'github.com/flutter/flutter',\n",
       " 'github.com/electron/electron',\n",
       " 'github.com/donnemartin/system-design-primer',\n",
       " 'github.com/vinta/awesome-python',\n",
       " 'github.com/facebook/create-react-app',\n",
       " 'github.com/jackfrued/Python-100-Days',\n",
       " 'github.com/axios/axios',\n",
       " 'github.com/public-apis/public-apis',\n",
       " 'github.com/golang/go',\n",
       " 'github.com/jlevy/the-art-of-command-line',\n",
       " 'github.com/nodejs/node',\n",
       " 'github.com/Snailclimb/JavaGuide',\n",
       " 'github.com/TheAlgorithms/Python',\n",
       " 'github.com/daneden/animate.css',\n",
       " 'github.com/FortAwesome/Font-Awesome',\n",
       " 'github.com/kubernetes/kubernetes',\n",
       " 'github.com/justjavac/free-programming-books-zh_CN',\n",
       " 'github.com/tensorflow/models',\n",
       " 'github.com/angular/angular.js',\n",
       " 'github.com/ytdl-org/youtube-dl',\n",
       " 'github.com/trekhleb/javascript-algorithms',\n",
       " 'github.com/mrdoob/three.js',\n",
       " 'github.com/danistefanovic/build-your-own-x',\n",
       " 'github.com/puppeteer/puppeteer',\n",
       " 'github.com/laravel/laravel',\n",
       " 'github.com/microsoft/TypeScript',\n",
       " 'github.com/moby/moby',\n",
       " 'github.com/microsoft/terminal',\n",
       " 'github.com/angular/angular',\n",
       " 'github.com/ant-design/ant-design',\n",
       " 'github.com/iluwatar/java-design-patterns',\n",
       " 'github.com/30-seconds/30-seconds-of-code',\n",
       " 'github.com/mui-org/material-ui',\n",
       " 'github.com/jquery/jquery',\n",
       " 'github.com/ossu/computer-science',\n",
       " 'github.com/webpack/webpack',\n",
       " 'github.com/reduxjs/redux',\n",
       " 'github.com/nvbn/thefuck',\n",
       " 'github.com/vuejs/awesome-vue',\n",
       " 'github.com/atom/atom',\n",
       " 'github.com/avelino/awesome-go',\n",
       " 'github.com/apple/swift',\n",
       " 'github.com/hakimel/reveal.js',\n",
       " 'github.com/socketio/socket.io',\n",
       " 'github.com/pallets/flask',\n",
       " 'github.com/Semantic-Org/Semantic-UI',\n",
       " 'github.com/expressjs/express',\n",
       " 'github.com/PanJiaChen/vue-element-admin',\n",
       " 'github.com/chartjs/Chart.js',\n",
       " 'github.com/elastic/elasticsearch',\n",
       " 'github.com/keras-team/keras',\n",
       " 'github.com/django/django',\n",
       " 'github.com/MisterBooo/LeetCodeAnimation',\n",
       " 'github.com/shadowsocks/shadowsocks-windows',\n",
       " 'github.com/chrislgarry/Apollo-11',\n",
       " 'github.com/jakubroztocil/httpie',\n",
       " 'github.com/rails/rails',\n",
       " 'github.com/typicode/json-server',\n",
       " 'github.com/spring-projects/spring-boot',\n",
       " 'github.com/storybookjs/storybook',\n",
       " 'github.com/h5bp/html5-boilerplate',\n",
       " 'github.com/netdata/netdata',\n",
       " 'github.com/zeit/next.js',\n",
       " 'github.com/h5bp/Front-end-Developer-Interview-Questions',\n",
       " 'github.com/moment/moment',\n",
       " 'github.com/josephmisiti/awesome-machine-learning',\n",
       " 'github.com/resume/resume.github.com',\n",
       " 'github.com/ElemeFE/element',\n",
       " 'github.com/lodash/lodash',\n",
       " 'github.com/adam-p/markdown-here',\n",
       " 'github.com/tonsky/FiraCode',\n",
       " 'github.com/bitcoin/bitcoin',\n",
       " 'github.com/meteor/meteor',\n",
       " 'github.com/ReactiveX/RxJava',\n",
       " 'github.com/rust-lang/rust',\n",
       " 'github.com/psf/requests',\n",
       " 'github.com/ansible/ansible',\n",
       " 'github.com/kdn251/interviews',\n",
       " 'github.com/gatsbyjs/gatsby',\n",
       " 'github.com/opencv/opencv',\n",
       " 'github.com/mtdvio/every-programmer-should-know']"
      ]
     },
     "execution_count": 43,
     "metadata": {},
     "output_type": "execute_result"
    }
   ],
   "source": [
    "urls"
   ]
  },
  {
   "cell_type": "code",
   "execution_count": 44,
   "metadata": {},
   "outputs": [],
   "source": [
    "df= pd.DataFrame(urls)"
   ]
  },
  {
   "cell_type": "code",
   "execution_count": 46,
   "metadata": {},
   "outputs": [],
   "source": [
    "df.to_csv('first100')"
   ]
  },
  {
   "cell_type": "code",
   "execution_count": null,
   "metadata": {},
   "outputs": [],
   "source": []
  }
 ],
 "metadata": {
  "kernelspec": {
   "display_name": "Python 3",
   "language": "python",
   "name": "python3"
  },
  "language_info": {
   "codemirror_mode": {
    "name": "ipython",
    "version": 3
   },
   "file_extension": ".py",
   "mimetype": "text/x-python",
   "name": "python",
   "nbconvert_exporter": "python",
   "pygments_lexer": "ipython3",
   "version": "3.7.3"
  }
 },
 "nbformat": 4,
 "nbformat_minor": 2
}
