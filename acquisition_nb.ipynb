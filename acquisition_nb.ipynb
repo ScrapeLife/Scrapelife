{
 "cells": [
  {
   "cell_type": "code",
   "execution_count": 2,
   "metadata": {},
   "outputs": [],
   "source": [
    "from bs4 import BeautifulSoup\n",
    "from requests import get\n",
    "import warnings\n",
    "warnings.filterwarnings('ignore')\n",
    "import re\n",
    "import pandas as pd"
   ]
  },
  {
   "cell_type": "code",
   "execution_count": 3,
   "metadata": {},
   "outputs": [],
   "source": [
    "url = 'https://github.com/search?q=stars%3A%3E0&s=stars&type=Repositories'\n",
    "headers = {'User-Agent': 'Codeup Data Science Student'}\n",
    "raw_data = get(url, headers = headers).text\n",
    "soup = BeautifulSoup(raw_data)"
   ]
  },
  {
   "cell_type": "code",
   "execution_count": 22,
   "metadata": {},
   "outputs": [],
   "source": [
    "stuff = soup.select_one('.repo-list').select('.v-align-middle')"
   ]
  },
  {
   "cell_type": "code",
   "execution_count": 23,
   "metadata": {},
   "outputs": [
    {
     "data": {
      "text/plain": [
       "['freeCodeCamp/freeCodeCamp',\n",
       " '996icu/996.ICU',\n",
       " 'vuejs/vue',\n",
       " 'facebook/react',\n",
       " 'tensorflow/tensorflow',\n",
       " 'twbs/bootstrap',\n",
       " 'EbookFoundation/free-programming-books',\n",
       " 'sindresorhus/awesome',\n",
       " 'getify/You-Dont-Know-JS',\n",
       " 'ohmyzsh/ohmyzsh']"
      ]
     },
     "execution_count": 23,
     "metadata": {},
     "output_type": "execute_result"
    }
   ],
   "source": [
    "[x.text for x in stuff]"
   ]
  },
  {
   "cell_type": "code",
   "execution_count": 50,
   "metadata": {},
   "outputs": [
    {
     "data": {
      "text/plain": [
       "'/search?p=2&q=stars%3A%3E0&s=stars&type=Repositories'"
      ]
     },
     "execution_count": 50,
     "metadata": {},
     "output_type": "execute_result"
    }
   ],
   "source": [
    "next_page = soup.select_one('.next_page').get('href')\n",
    "next_page"
   ]
  },
  {
   "cell_type": "code",
   "execution_count": null,
   "metadata": {},
   "outputs": [],
   "source": [
    "while"
   ]
  },
  {
   "cell_type": "code",
   "execution_count": null,
   "metadata": {},
   "outputs": [],
   "source": []
  }
 ],
 "metadata": {
  "kernelspec": {
   "display_name": "Python 3",
   "language": "python",
   "name": "python3"
  },
  "language_info": {
   "codemirror_mode": {
    "name": "ipython",
    "version": 3
   },
   "file_extension": ".py",
   "mimetype": "text/x-python",
   "name": "python",
   "nbconvert_exporter": "python",
   "pygments_lexer": "ipython3",
   "version": "3.7.4"
  }
 },
 "nbformat": 4,
 "nbformat_minor": 2
}
