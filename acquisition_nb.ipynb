{
 "cells": [
  {
   "cell_type": "code",
   "execution_count": 1,
   "metadata": {},
   "outputs": [],
   "source": [
    "from bs4 import BeautifulSoup\n",
    "from requests import get\n",
    "import warnings\n",
    "warnings.filterwarnings('ignore')\n",
    "import re\n",
    "import pandas as pd\n",
    "import time"
   ]
  },
  {
   "cell_type": "code",
   "execution_count": 2,
   "metadata": {},
   "outputs": [],
   "source": [
    "first_pages = ['https://github.com/search?l=JavaScript&q=stars%3A%3E0&s=stars&type=Repositories',\n",
    "        'https://github.com/search?l=Python&q=stars%3A%3E0&s=stars&type=Repositories',\n",
    "        'https://github.com/search?l=Java&q=stars%3A%3E0&s=stars&type=Repositories',\n",
    "        'https://github.com/search?l=PHP&q=stars%3A%3E0&s=stars&type=Repositories']\n",
    "headers = {'User-Agent': 'Codeup Data Science Student'}\n"
   ]
  },
  {
   "cell_type": "code",
   "execution_count": null,
   "metadata": {},
   "outputs": [],
   "source": []
  },
  {
   "cell_type": "code",
   "execution_count": null,
   "metadata": {},
   "outputs": [],
   "source": []
  },
  {
   "cell_type": "code",
   "execution_count": null,
   "metadata": {},
   "outputs": [],
   "source": []
  },
  {
   "cell_type": "code",
   "execution_count": 49,
   "metadata": {},
   "outputs": [
    {
     "name": "stdout",
     "output_type": "stream",
     "text": [
      "loop:  0\n",
      "loop:  1\n",
      "loop:  2\n",
      "loop:  3\n",
      "loop:  4\n",
      "loop:  5\n",
      "loop:  6\n",
      "loop:  7\n",
      "loop:  8\n",
      "loop:  9\n",
      "loop:  10\n"
     ]
    },
    {
     "ename": "AttributeError",
     "evalue": "'NoneType' object has no attribute 'select'",
     "output_type": "error",
     "traceback": [
      "\u001b[0;31m---------------------------------------------------------------------------\u001b[0m",
      "\u001b[0;31mAttributeError\u001b[0m                            Traceback (most recent call last)",
      "\u001b[0;32m<ipython-input-49-6febfdfd42f4>\u001b[0m in \u001b[0;36m<module>\u001b[0;34m\u001b[0m\n\u001b[1;32m     10\u001b[0m         \u001b[0mraw_data\u001b[0m \u001b[0;34m=\u001b[0m \u001b[0mget\u001b[0m\u001b[0;34m(\u001b[0m\u001b[0murl\u001b[0m\u001b[0;34m,\u001b[0m \u001b[0mheaders\u001b[0m \u001b[0;34m=\u001b[0m \u001b[0mheaders\u001b[0m\u001b[0;34m)\u001b[0m\u001b[0;34m.\u001b[0m\u001b[0mtext\u001b[0m\u001b[0;34m\u001b[0m\u001b[0;34m\u001b[0m\u001b[0m\n\u001b[1;32m     11\u001b[0m         \u001b[0msoup\u001b[0m \u001b[0;34m=\u001b[0m \u001b[0mBeautifulSoup\u001b[0m\u001b[0;34m(\u001b[0m\u001b[0mraw_data\u001b[0m\u001b[0;34m)\u001b[0m\u001b[0;34m\u001b[0m\u001b[0;34m\u001b[0m\u001b[0m\n\u001b[0;32m---> 12\u001b[0;31m         \u001b[0mstuff\u001b[0m \u001b[0;34m=\u001b[0m \u001b[0msoup\u001b[0m\u001b[0;34m.\u001b[0m\u001b[0mselect_one\u001b[0m\u001b[0;34m(\u001b[0m\u001b[0;34m'.repo-list'\u001b[0m\u001b[0;34m)\u001b[0m\u001b[0;34m.\u001b[0m\u001b[0mselect\u001b[0m\u001b[0;34m(\u001b[0m\u001b[0;34m'.v-align-middle'\u001b[0m\u001b[0;34m)\u001b[0m\u001b[0;34m\u001b[0m\u001b[0;34m\u001b[0m\u001b[0m\n\u001b[0m\u001b[1;32m     13\u001b[0m         \u001b[0mbetter_stuff\u001b[0m \u001b[0;34m=\u001b[0m \u001b[0;34m[\u001b[0m\u001b[0mx\u001b[0m\u001b[0;34m.\u001b[0m\u001b[0mtext\u001b[0m \u001b[0;32mfor\u001b[0m \u001b[0mx\u001b[0m \u001b[0;32min\u001b[0m \u001b[0mstuff\u001b[0m\u001b[0;34m]\u001b[0m\u001b[0;34m\u001b[0m\u001b[0;34m\u001b[0m\u001b[0m\n\u001b[1;32m     14\u001b[0m         \u001b[0;32mfor\u001b[0m \u001b[0murl\u001b[0m \u001b[0;32min\u001b[0m \u001b[0mbetter_stuff\u001b[0m\u001b[0;34m:\u001b[0m\u001b[0;34m\u001b[0m\u001b[0;34m\u001b[0m\u001b[0m\n",
      "\u001b[0;31mAttributeError\u001b[0m: 'NoneType' object has no attribute 'select'"
     ]
    }
   ],
   "source": [
    "headers = {'User-Agent': 'Codeup Data Science Student'}\n",
    "i = 0\n",
    "all_urls = []\n",
    "for page in first_pages:\n",
    "    page_urls = []\n",
    "    url = page\n",
    "    while len(page_urls) <25:\n",
    "        print('loop: ', i)\n",
    "        i += 1\n",
    "        raw_data = get(url, headers = headers).text\n",
    "        soup = BeautifulSoup(raw_data)\n",
    "        stuff = soup.select_one('.repo-list').select('.v-align-middle')\n",
    "        better_stuff = [x.text for x in stuff]\n",
    "        for url in better_stuff:\n",
    "            page_urls.append('http://github.com/' + url)\n",
    "\n",
    "        next_page = soup.select_one('.next_page').get('href')\n",
    "        url= ('https://github.com' + next_page)\n",
    "        time.sleep(2)\n",
    "    all_urls += page_urls\n",
    "    \n",
    "\n",
    "    \n",
    "    \n",
    "    \n",
    "    "
   ]
  },
  {
   "cell_type": "code",
   "execution_count": 51,
   "metadata": {},
   "outputs": [
    {
     "data": {
      "text/plain": [
       "90"
      ]
     },
     "execution_count": 51,
     "metadata": {},
     "output_type": "execute_result"
    }
   ],
   "source": [
    "len(all_urls)"
   ]
  },
  {
   "cell_type": "code",
   "execution_count": null,
   "metadata": {},
   "outputs": [],
   "source": []
  },
  {
   "cell_type": "code",
   "execution_count": null,
   "metadata": {},
   "outputs": [],
   "source": [
    "urls.to_csv('first100', index = False)"
   ]
  },
  {
   "cell_type": "code",
   "execution_count": null,
   "metadata": {},
   "outputs": [],
   "source": [
    "urls = pd.read_csv('first100', names = ['url'])"
   ]
  },
  {
   "cell_type": "code",
   "execution_count": null,
   "metadata": {},
   "outputs": [],
   "source": [
    "get(first_pages[0], headers = headers)\n"
   ]
  },
  {
   "cell_type": "code",
   "execution_count": null,
   "metadata": {},
   "outputs": [],
   "source": [
    "page = urls.url[1]\n",
    "page"
   ]
  },
  {
   "cell_type": "code",
   "execution_count": null,
   "metadata": {},
   "outputs": [],
   "source": [
    "soup = BeautifulSoup(get(page, headers = headers).text)\n"
   ]
  },
  {
   "cell_type": "code",
   "execution_count": null,
   "metadata": {},
   "outputs": [],
   "source": [
    "soup.select_one('.language-color').text"
   ]
  },
  {
   "cell_type": "code",
   "execution_count": null,
   "metadata": {},
   "outputs": [],
   "source": [
    "soup.select_one('.markdown-body').text"
   ]
  },
  {
   "cell_type": "code",
   "execution_count": null,
   "metadata": {},
   "outputs": [],
   "source": [
    "target = []\n",
    "readme = []\n",
    "for url in all_urls:\n",
    "    soup = BeautifulSoup(get(url, headers = headers).text)\n",
    "    target += [soup.select_one('.language-color').text]\n",
    "    readme += [soup.select_one('.markdown-body').text]"
   ]
  },
  {
   "cell_type": "code",
   "execution_count": null,
   "metadata": {},
   "outputs": [],
   "source": [
    "readme"
   ]
  },
  {
   "cell_type": "code",
   "execution_count": 3,
   "metadata": {},
   "outputs": [],
   "source": [
    "import prep"
   ]
  },
  {
   "cell_type": "code",
   "execution_count": null,
   "metadata": {},
   "outputs": [],
   "source": [
    "\n",
    "readmes = pd.DataFrame(target, columns=['target'])\n",
    "readmes['readme'] = readme\n",
    "#readmes.to_csv('ugly_data.csv')"
   ]
  },
  {
   "cell_type": "code",
   "execution_count": 8,
   "metadata": {},
   "outputs": [],
   "source": [
    "readmes = pd.read_csv('ugly_data.csv', index_col=0)\n",
    "readmes['clean'] = prep.basic_clean(readmes[['readme']])\n"
   ]
  },
  {
   "cell_type": "code",
   "execution_count": 11,
   "metadata": {},
   "outputs": [
    {
     "data": {
      "text/plain": [
       "\"english portugues brasil deutsch italiano polski espanol turkce tieng viet francais add translation system design primer motivation learn design largescale system prep system design interview learn design largescale system learning design scalable system help become better engineer system design broad topic vast amount resource scattered throughout web system design principle repo organized collection resource help learn build system scale learn open source community continually updated open source project contribution welcome prep system design interview addition coding interview system design required component technical interview process many tech company practice common system design interview question compare result sample solution discussion code diagram additional topic interview prep study guide approach system design interview question system design interview question solution objectoriented design interview question solution additional system design interview question anki flashcard provided anki flashcard deck use spaced repetition help retain key system design concept system design deck system design exercise deck object oriented design exercise deck great use onthego coding resource interactive coding challenge looking resource help prep coding interview check sister repo interactive coding challenge contains additional anki deck coding deck contributing learn community feel free submit pull request help fix error improve section add new section translate content need polishing placed development review contributing guideline index system design topic summary various system design topic including pro con everything tradeoff section contains link indepth resource system design topic start step review scalability video lecture step review scalability article next step performance v scalability latency v throughput availability v consistency cap theorem cp consistency partition tolerance ap availability partition tolerance consistency pattern weak consistency eventual consistency strong consistency availability pattern failover replication availability number domain name system content delivery network push cdns pull cdns load balancer activepassive activeactive layer load balancing layer load balancing horizontal scaling reverse proxy web server load balancer v reverse proxy application layer microservices service discovery database relational database management system rdbms masterslave replication mastermaster replication federation sharding denormalization sql tuning nosql keyvalue store document store wide column store graph database sql nosql cache client caching cdn caching web server caching database caching application caching caching database query level caching object level update cache cacheaside writethrough writebehind writeback refreshahead asynchronism message queue task queue back pressure communication transmission control protocol tcp user datagram protocol udp remote procedure call rpc representational state transfer rest security appendix power two table latency number every programmer know additional system design interview question real world architecture company architecture company engineering blog development credit contact info license study guide suggested topic review based interview timeline short medium long q interview need know everything ' need know everything prepare interview asked interview depends variable much experience technical background position interviewing company interviewing luck experienced candidate generally expected know system design architect team lead might expected know individual contributor top tech company likely one design interview round start broad go deeper area help know little various key system design topic adjust following guide based timeline experience position interviewing company interviewing short timeline aim breadth system design topic practice solving interview question medium timeline aim breadth depth system design topic practice solving many interview question long timeline aim breadth depth system design topic practice solving interview question short medium long read system design topic get broad understanding system work read article company engineering blog company interviewing read real world architecture review approach system design interview question work system design interview question solution many work objectoriented design interview question solution many review additional system design interview question many approach system design interview question tackle system design interview question system design interview openended conversation expected lead use following step guide discussion help solidify process work system design interview question solution section using following step step outline use case constraint assumption gather requirement scope problem ask question clarify use case constraint discus assumption going use going use many user doe system input output system much data expect handle many request per second expect expected read write ratio step create high level design outline high level design important component sketch main component connection justify idea step design core component dive detail core component example asked design url shortening service discus generating storing hash full url md base hash collision sql nosql database schema translating hashed url full url database lookup api objectoriented design step scale design identify address bottleneck given constraint example need following address scalability issue load balancer horizontal scaling caching database sharding discus potential solution tradeoff everything tradeoff address bottleneck using principle scalable system design backoftheenvelope calculation might asked estimate hand refer appendix following resource use back envelope calculation power two table latency number every programmer know source reading check following link get better idea expect ace system design interview system design interview intro architecture system design interview system design interview question solution common system design interview question sample discussion code diagram solution linked content solution folder question design pastebincom bitly solution design twitter timeline search facebook feed search solution design web crawler solution design mintcom solution design data structure social network solution design keyvalue store search engine solution design amazon ' sale ranking category feature solution design system scale million user aws solution add system design question contribute design pastebincom bitly view exercise solution design twitter timeline search facebook feed search view exercise solution design web crawler view exercise solution design mintcom view exercise solution design data structure social network view exercise solution design keyvalue store search engine view exercise solution design amazon ' sale ranking category feature view exercise solution design system scale million user aws view exercise solution objectoriented design interview question solution common objectoriented design interview question sample discussion code diagram solution linked content solution folder note section development question design hash map solution design least recently used cache solution design call center solution design deck card solution design parking lot solution design chat server solution design circular array contribute add objectoriented design question contribute system design topic start new system design first ' need basic understanding common principle learning used pro con step review scalability video lecture scalability lecture harvard topic covered vertical scaling horizontal scaling caching load balancing database replication database partitioning step review scalability article scalability topic covered clone database cache asynchronism next step next ' look highlevel tradeoff performance v scalability latency v throughput availability v consistency keep mind everything tradeoff ' dive specific topic dns cdns load balancer performance v scalability service scalable result increased performance manner proportional resource added generally increasing performance mean serving unit work also handle larger unit work datasets grow another way look performance v scalability performance problem system slow single user scalability problem system fast single user slow heavy load source reading word scalability scalability availability stability pattern latency v throughput latency time perform action produce result throughput number action result per unit time generally aim maximal throughput acceptable latency source reading understanding latency v throughput availability v consistency cap theorem source cap theorem revisited distributed computer system support two following guarantee consistency every read receives recent write error availability every request receives response without guarantee contains recent version information partition tolerance system continues operate despite arbitrary partitioning due network failure network ' reliable ' need support partition tolerance ' need make software tradeoff consistency availability cp consistency partition tolerance waiting response partitioned node might result timeout error cp good choice business need require atomic read writes ap availability partition tolerance response return recent version data available node might latest writes might take time propagate partition resolved ap good choice business need allow eventual consistency system need continue working despite external error source reading cap theorem revisited plain english introduction cap theorem cap faq consistency pattern multiple copy data faced option synchronize client consistent view data recall definition consistency cap theorem every read receives recent write error weak consistency write read may may see best effort approach taken approach seen system memcached weak consistency work well real time use case voip video chat realtime multiplayer game example phone call lose reception second regain connection hear wa spoken connection loss eventual consistency write read eventually see typically within millisecond data replicated asynchronously approach seen system dns email eventual consistency work well highly available system strong consistency write read see data replicated synchronously approach seen file system rdbmses strong consistency work well system need transaction source reading transaction across data center availability pattern two main pattern support high availability failover replication failover activepassive activepassive failover heartbeat sent active passive server standby heartbeat interrupted passive server take active ' ip address resume service length downtime determined whether passive server already running ' hot ' standby whether need start ' cold ' standby active server handle traffic activepassive failover also referred masterslave failover activeactive activeactive server managing traffic spreading load server publicfacing dns would need know public ip server server internalfacing application logic would need know server activeactive failover also referred mastermaster failover disadvantage failover failover add hardware additional complexity potential loss data active system fails newly written data replicated passive replication masterslave mastermaster topic discussed database section masterslave replication mastermaster replication availability number availability often quantified uptime downtime percentage time service available availability generally measured number sa service availability described four availability three duration acceptable downtime downtime per year h min downtime per month downtime per week downtime per day availability four duration acceptable downtime downtime per year min downtime per month downtime per week downtime per day availability parallel v sequence service consists multiple component prone failure service ' overall availability depends whether component sequence parallel sequence overall availability decrease two component availability sequence availability total availability foo availability bar foo bar availability total availability sequence would parallel overall availability increase two component availability parallel availability total availability foo availability bar foo bar availability total availability parallel would domain name system source dns security presentation domain name system dns translates domain name wwwexamplecom ip address dns hierarchical authoritative server top level router isp provides information dns server contact lookup lower level dns server cache mapping could become stale due dns propagation delay dns result also cached browser certain period time determined time live ttl n record name server specifies dns server domainsubdomain mx record mail exchange specifies mail server accepting message record address point name ip address cname canonical point name another name cname examplecom wwwexamplecom record service cloudflare route provide managed dns service dns service route traffic various method weighted round robin prevent traffic going server maintenance balance varying cluster size ab testing latencybased geolocationbased disadvantage dns accessing dns server introduces slight delay although mitigated caching described dns server management could complex generally managed government isps large company dns service recently come ddos attack preventing user accessing website twitter without knowing twitter ' ip address source reading dns architecture wikipedia dns article content delivery network source use cdn content delivery network cdn globally distributed network proxy server serving content location closer user generally static file htmlcssjs photo video served cdn although cdns amazon ' cloudfront support dynamic content site ' dns resolution tell client server contact serving content cdns significantly improve performance two way user receive content data center close server serve request cdn fulfills push cdns push cdns receive new content whenever change occur server take full responsibility providing content uploading directly cdn rewriting url point cdn configure content expires updated content uploaded new changed minimizing traffic maximizing storage site small amount traffic site content ' often updated work well push cdns content placed cdns instead repulled regular interval pull cdns pull cdns grab new content server first user request content leave content server rewrite url point cdn result slower request content cached cdn timetolive ttl determines long content cached pull cdns minimize storage space cdn create redundant traffic file expire pulled actually changed site heavy traffic work well pull cdns traffic spread evenly recentlyrequested content remaining cdn disadvantage cdn cdn cost could significant depending traffic although weighed additional cost would incur using cdn content might stale updated ttl expires cdns require changing url static content point cdn source reading globally distributed content delivery difference push pull cdns wikipedia load balancer source scalable system design pattern load balancer distribute incoming client request computing resource application server database case load balancer return response computing resource appropriate client load balancer effective preventing request going unhealthy server preventing overloading resource helping eliminate single point failure load balancer implemented hardware expensive software haproxy additional benefit include ssl termination decrypt incoming request encrypt server response backend server perform potentially expensive operation remove need install x certificate server session persistence issue cooky route specific client ' request instance web apps keep track session protect failure ' common set multiple load balancer either activepassive activeactive mode load balancer route traffic based various metric including random least loaded sessioncookies round robin weighted round robin layer layer layer load balancing layer load balancer look info transport layer decide distribute request generally involves source destination ip address port header content packet layer load balancer forward network packet upstream server performing network address translation nat layer load balancing layer load balancer look application layer decide distribute request involve content header message cooky layer load balancer terminates network traffic read message make loadbalancing decision open connection selected server example layer load balancer direct video traffic server host video directing sensitive user billing traffic securityhardened server cost flexibility layer load balancing requires le time computing resource layer although performance impact minimal modern commodity hardware horizontal scaling load balancer also help horizontal scaling improving performance availability scaling using commodity machine cost efficient result higher availability scaling single server expensive hardware called vertical scaling also easier hire talent working commodity hardware specialized enterprise system disadvantage horizontal scaling scaling horizontally introduces complexity involves cloning server server stateless contain userrelated data like session profile picture session stored centralized data store database sql nosql persistent cache redis memcached downstream server cache database need handle simultaneous connection upstream server scale disadvantage load balancer load balancer become performance bottleneck doe enough resource configured properly introducing load balancer help eliminate single point failure result increased complexity single load balancer single point failure configuring multiple load balancer increase complexity source reading nginx architecture haproxy architecture guide scalability wikipedia layer load balancing layer load balancing elb listener config reverse proxy web server source wikipedia reverse proxy web server centralizes internal service provides unified interface public request client forwarded server fulfill reverse proxy return server ' response client additional benefit include increased security hide information backend server blacklist ip limit number connection per client increased scalability flexibility client see reverse proxy ' ip allowing scale server change configuration ssl termination decrypt incoming request encrypt server response backend server perform potentially expensive operation remove need install x certificate server compression compress server response caching return response cached request static content serve static content directly htmlcssjs photo video etc load balancer v reverse proxy deploying load balancer useful multiple server often load balancer route traffic set server serving function reverse proxy useful even one web server application server opening benefit described previous section solution nginx haproxy support layer reverse proxying load balancing disadvantage reverse proxy introducing reverse proxy result increased complexity single reverse proxy single point failure configuring multiple reverse proxy ie failover increase complexity source reading reverse proxy v load balancer nginx architecture haproxy architecture guide wikipedia application layer source intro architecting system scale separating web layer application layer also known platform layer allows scale configure layer independently adding new api result adding application server without necessarily adding additional web server single responsibility principle advocate small autonomous service work together small team small service plan aggressively rapid growth worker application layer also help enable asynchronism microservices related discussion microservices described suite independently deployable small modular service service run unique process communicates welldefined lightweight mechanism serve business goal pinterest example could following microservices user profile follower feed search photo upload etc service discovery system consul etcd zookeeper help service find keeping track registered name address port health check help verify service integrity often done using http endpoint consul etcd built keyvalue store useful storing config value shared data disadvantage application layer adding application layer loosely coupled service requires different approach architectural operation process viewpoint v monolithic system microservices add complexity term deployment operation source reading intro architecting system scale crack system design interview service oriented architecture introduction zookeeper ' need know building microservices database source scaling first million user relational database management system rdbms relational database like sql collection data item organized table acid set property relational database transaction atomicity transaction nothing consistency transaction bring database one valid state another isolation executing transaction concurrently ha result transaction executed serially durability transaction ha committed remain many technique scale relational database masterslave replication mastermaster replication federation sharding denormalization sql tuning masterslave replication master serf read writes replicating writes one slave serve read slave also replicate additional slave treelike fashion master go offline system continue operate readonly mode slave promoted master new master provisioned source scalability availability stability pattern disadvantage masterslave replication additional logic needed promote slave master see disadvantage replication point related masterslave mastermaster mastermaster replication master serve read writes coordinate writes either master go system continue operate read writes source scalability availability stability pattern disadvantage mastermaster replication ' need load balancer ' need make change application logic determine write mastermaster system either loosely consistent violating acid increased write latency due synchronization conflict resolution come play write node added latency increase see disadvantage replication point related masterslave mastermaster disadvantage replication potential loss data master fails newly written data replicated node writes replayed read replica lot writes read replica get bogged replaying writes ' many read read slave replicate lead greater replication lag system writing master spawn multiple thread write parallel whereas read replica support writing sequentially single thread replication add hardware additional complexity source reading replication scalability availability stability pattern multimaster replication federation source scaling first million user federation functional partitioning split database function example instead single monolithic database could three database forum user product resulting le read write traffic database therefore le replication lag smaller database result data fit memory turn result cache hit due improved cache locality single central master serializing writes write parallel increasing throughput disadvantage federation federation effective schema requires huge function table ' need update application logic determine database read write joining data two database complex server link federation add hardware additional complexity source reading federation scaling first million user sharding source scalability availability stability pattern sharding distributes data across different database database manage subset data taking user database example number user increase shard added cluster similar advantage federation sharding result le read write traffic le replication cache hit index size also reduced generally improves performance faster query one shard go shard still operational although ' want add form replication avoid data loss like federation single central master serializing writes allowing write parallel increased throughput common way shard table user either user ' last name initial user ' geographic location disadvantage sharding ' need update application logic work shard could result complex sql query data distribution become lopsided shard example set power user shard could result increased load shard compared others rebalancing add additional complexity sharding function based consistent hashing reduce amount transferred data joining data multiple shard complex sharding add hardware additional complexity source reading sharding coming shard shard database architecture consistent hashing denormalization denormalization attempt improve read performance expense write performance redundant copy data written multiple table avoid expensive join rdbms postgresql oracle support materialized view handle work storing redundant information keeping redundant copy consistent data becomes distributed technique federation sharding managing join across data center increase complexity denormalization might circumvent need complex join system read heavily outnumber writes even read resulting complex database join expensive spending significant amount time disk operation disadvantage denormalization data duplicated constraint help redundant copy information stay sync increase complexity database design denormalized database heavy write load might perform worse normalized counterpart source reading denormalization denormalization sql tuning sql tuning broad topic many book written reference ' important benchmark profile simulate uncover bottleneck benchmark simulate highload situation tool ab profile enable tool slow query log help track performance issue benchmarking profiling might point following optimization tighten schema mysql dump disk contiguous block fast access use char instead varchar fixedlength field char effectively allows fast random access whereas varchar must find end string moving onto next one use text large block text blog post text also allows boolean search using text field result storing pointer disk used locate text block use int larger number billion use decimal currency avoid floating point representation error avoid storing large blob store location get object instead varchar largest number character counted bit number often maximizing use byte rdbms set null constraint applicable improve search performance use good index column querying select group order join could faster index index usually represented selfbalancing btree keep data sorted allows search sequential access insertion deletion logarithmic time placing index keep data memory requiring space writes could also slower since index also need updated loading large amount data might faster disable index load data rebuild index avoid expensive join denormalize performance demand partition table break table putting hot spot separate table help keep memory tune query cache case query cache could lead performance issue source reading sql tuning tip optimizing mysql query good reason see varchar used often null value affect performance slow query log nosql nosql collection data item represented keyvalue store document store wide column store graph database data denormalized join generally done application code nosql store lack true acid transaction favor eventual consistency base often used describe property nosql database comparison cap theorem base chooses availability consistency basically available system guarantee availability soft state state system may change time even without input eventual consistency system become consistent period time given system ' receive input period addition choosing sql nosql helpful understand type nosql database best fit use case ' review keyvalue store document store wide column store graph database next section keyvalue store abstraction hash table keyvalue store generally allows read writes often backed memory ssd data store maintain key lexicographic order allowing efficient retrieval key range keyvalue store allow storing metadata value keyvalue store provide high performance often used simple data model rapidlychanging data inmemory cache layer since offer limited set operation complexity shifted application layer additional operation needed keyvalue store basis complex system document store case graph database source reading keyvalue store keyvalue database disadvantage keyvalue store redis architecture memcached architecture document store abstraction keyvalue store document stored value document store centered around document xml json binary etc document store information given object document store provide apis query language query based internal structure document note many keyvalue store include feature working value ' metadata blurring line two storage type based underlying implementation document organized collection tag metadata directory although document organized grouped together document may field completely different document store like mongodb couchdb also provide sqllike language perform complex query dynamodb support keyvalues document document store provide high flexibility often used working occasionally changing data source reading document store documentoriented database mongodb architecture couchdb architecture elasticsearch architecture wide column store source sql nosql brief history abstraction nested map columnfamilyrowkey columnscolkey value timestamp wide column store ' basic unit data column namevalue pair column grouped column family analogous sql table super column family group column family access column independently row key column row key form row value contains timestamp versioning conflict resolution google introduced bigtable first wide column store influenced opensource hbase oftenused hadoop ecosystem cassandra facebook store bigtable hbase cassandra maintain key lexicographic order allowing efficient retrieval selective key range wide column store offer high availability high scalability often used large data set source reading wide column store sql nosql brief history bigtable architecture hbase architecture cassandra architecture graph database source graph database abstraction graph graph database node record arc relationship two node graph database optimized represent complex relationship many foreign key manytomany relationship graph database offer high performance data model complex relationship social network relatively new yet widelyused might difficult find development tool resource many graph accessed rest apis source reading graph graph database neoj flockdb source reading nosql explanation base terminology nosql database survey decision guidance scalability introduction nosql nosql pattern sql nosql source transitioning rdbms nosql reason sql structured data strict schema relational data need complex join transaction clear pattern scaling established developer community code tool etc lookup index fast reason nosql semistructured data dynamic flexible schema nonrelational data need complex join store many tb pb data data intensive workload high throughput iop sample data wellsuited nosql rapid ingest clickstream log data leaderboard scoring data temporary data shopping cart frequently accessed ' hot ' table metadatalookup table source reading sql nosql scaling first million user sql v nosql difference cache source scalable system design pattern caching improves page load time reduce load server database model dispatcher first lookup request ha made try find previous result return order save actual execution database often benefit uniform distribution read writes across partition popular item skew distribution causing bottleneck putting cache front database help absorb uneven load spike traffic client caching cache located client side browser server side distinct cache layer cdn caching cdns considered type cache web server caching reverse proxy cache varnish serve static dynamic content directly web server also cache request returning response without contact application server database caching database usually includes level caching default configuration optimized generic use case tweaking setting specific usage pattern boost performance application caching inmemory cache memcached redis keyvalue store application data storage since data held ram much faster typical database data stored disk ram limited disk cache invalidation algorithm least recently used lru help invalidate ' cold ' entry keep ' hot ' data ram redis ha following additional feature persistence option builtin data structure sorted set list multiple level cache fall two general category database query object row level querylevel fullyformed serializable object fullyrendered html generally try avoid filebased caching make cloning autoscaling difficult caching database query level whenever query database hash query key store result cache approach suffers expiration issue hard delete cached result complex query one piece data change table cell need delete cached query might include changed cell caching object level see data object similar application code application assemble dataset database class instance data structure remove object cache underlying data ha changed allows asynchronous processing worker assemble object consuming latest cached object suggestion cache user session fully rendered web page activity stream user graph data update cache since store limited amount data cache ' need determine cache update strategy work best use case cacheaside source cache inmemory data grid application responsible reading writing storage cache doe interact storage directly application doe following look entry cache resulting cache miss load entry database add entry cache return entry def getuserself userid user cachegetuser userid user none user dbqueryselect user userid userid user none key userformatuserid cachesetkey jsondumpsuser return user memcached generally used manner subsequent read data added cache fast cacheaside also referred lazy loading requested data cached avoids filling cache data ' requested disadvantage cacheaside cache miss result three trip cause noticeable delay data become stale updated database issue mitigated setting timetolive ttl force update cache entry using writethrough node fails replaced new empty node increasing latency writethrough source scalability availability stability pattern application us cache main data store reading writing data cache responsible reading writing database application addsupdates entry cache cache synchronously writes entry data store return application code setuser foobar cache code def setuseruserid value user dbqueryupdate user id userid value cachesetuserid user writethrough slow overall operation due write operation subsequent read written data fast user generally tolerant latency updating data reading data data cache stale disadvantage write new node created due failure scaling new node cache entry entry updated database cacheaside conjunction write mitigate issue data written might never read minimized ttl writebehind writeback source scalability availability stability pattern writebehind application doe following addupdate entry cache asynchronously write entry data store improving write performance disadvantage writebehind could data loss cache go prior content hitting data store complex implement writebehind implement cacheaside writethrough refreshahead source cache inmemory data grid configure cache automatically refresh recently accessed cache entry prior expiration refreshahead result reduced latency v readthrough cache accurately predict item likely needed future disadvantage refreshahead accurately predicting item likely needed future result reduced performance without refreshahead disadvantage cache need maintain consistency cache source truth database cache invalidation cache invalidation difficult problem additional complexity associated update cache need make application change adding redis memcached source reading cache inmemory data grid scalable system design pattern introduction architecting system scale scalability availability stability pattern scalability aws elasticache strategy wikipedia asynchronism source intro architecting system scale asynchronous workflow help reduce request time expensive operation would otherwise performed inline also help timeconsuming work advance periodic aggregation data message queue message queue receive hold deliver message operation slow perform inline use message queue following workflow application publishes job queue notifies user job status worker pick job queue process signal job complete user blocked job processed background time client might optionally small amount processing make seem like task ha completed example posting tweet tweet could instantly posted timeline could take time tweet actually delivered follower redis useful simple message broker message lost rabbitmq popular requires adapt ' amqp ' protocol manage node amazon sqs hosted high latency ha possibility message delivered twice task queue task queue receive task related data run delivers result support scheduling used run computationallyintensive job background celery ha support scheduling primarily ha python support back pressure queue start grow significantly queue size become larger memory resulting cache miss disk read even slower performance back pressure help limiting queue size thereby maintaining high throughput rate good response time job already queue queue fill client get server busy http status code try later client retry request later time perhaps exponential backoff disadvantage asynchronism use case inexpensive calculation realtime workflow might better suited synchronous operation introducing queue add delay complexity source reading ' number game applying back pressure overloaded little ' law difference message queue task queue communication source osi layer model hypertext transfer protocol http http method encoding transporting data client server requestresponse protocol client issue request server issue response relevant content completion status info request http selfcontained allowing request response flow many intermediate router server perform load balancing caching encryption compression basic http request consists verb method resource endpoint common http verb verb description idempotent safe cacheable get read resource yes yes yes post creates resource trigger process handle data yes response contains freshness info put creates replace resource yes patch partially update resource yes response contains freshness info delete deletes resource yes called many time without different outcome http application layer protocol relying lowerlevel protocol tcp udp source reading http http difference http tcp difference put patch transmission control protocol tcp source make multiplayer game tcp connectionoriented protocol ip network connection established terminated using handshake packet sent guaranteed reach destination original order without corruption sequence number checksum field packet acknowledgement packet automatic retransmission sender doe receive correct response resend packet multiple timeouts connection dropped tcp also implement flow control congestion control guarantee cause delay generally result le efficient transmission udp ensure high throughput web server keep large number tcp connection open resulting high memory usage expensive large number open connection web server thread say memcached server connection pooling help addition switching udp applicable tcp useful application require high reliability le time critical example include web server database info smtp ftp ssh use tcp udp need data arrive intact want automatically make best estimate use network throughput user datagram protocol udp source make multiplayer game udp connectionless datagrams analogous packet guaranteed datagram level datagrams might reach destination order udp doe support congestion control without guarantee tcp support udp generally efficient udp broadcast sending datagrams device subnet useful dhcp client ha yet received ip address thus preventing way tcp stream without ip address udp le reliable work well real time use case voip video chat streaming realtime multiplayer game use udp tcp need lowest latency late data worse loss data want implement error correction source reading tcp udp networking game programming key difference tcp udp protocol difference tcp udp transmission control protocol user datagram protocol scaling memcache facebook remote procedure call rpc source crack system design interview rpc client cause procedure execute different address space usually remote server procedure coded local procedure call abstracting away detail communicate server client program remote call usually slower le reliable local call helpful distinguish rpc call local call popular rpc framework include protobuf thrift avro rpc requestresponse protocol client program call client stub procedure parameter pushed onto stack like local procedure call client stub procedure marshal pack procedure id argument request message client communication module sends message client server server communication module pass incoming packet server stub procedure server stub procedure unmarshalls result call server procedure matching procedure id pass given argument server response repeat step reverse order sample rpc call get someoperationdataanid post anotheroperation dataanid anotherdata another value rpc focused exposing behavior rpcs often used performance reason internal communication handcraft native call better fit use case choose native library aka sdk know target platform want control logic accessed want control error control happens library performance end user experience primary concern http apis following rest tend used often public apis disadvantage rpc rpc client become tightly coupled service implementation new api must defined every new operation use case difficult debug rpc might able leverage existing technology box example might require additional effort ensure rpc call properly cached caching server squid representational state transfer rest rest architectural style enforcing clientserver model client act set resource managed server server provides representation resource action either manipulate get new representation resource communication must stateless cacheable four quality restful interface identify resource uri http use uri regardless operation change representation verb http use verb header body selfdescriptive error message status response http use status code ' reinvent wheel hateoas html interface http web service fully accessible browser sample rest call get someresourcesanid put someresourcesanid anotherdata another value rest focused exposing data minimizes coupling clientserver often used public http apis rest us generic uniform method exposing resource uris representation header action verb get post put delete patch stateless rest great horizontal scaling partitioning disadvantage rest rest focused exposing data might good fit resource naturally organized accessed simple hierarchy example returning updated record past hour matching particular set event easily expressed path rest likely implemented combination uri path query parameter possibly request body rest typically relies verb get post put delete patch sometimes ' fit use case example moving expired document archive folder might cleanly fit within verb fetching complicated resource nested hierarchy requires multiple round trip client server render single view eg fetching content blog entry comment entry mobile application operating variable network condition multiple roundtrips highly undesirable time field might added api response older client receive new data field even need result bloat payload size lead larger latency rpc rest call comparison operation rpc rest signup post signup post person resign post resignpersonid delete person read person get readpersonpersonid get person read person item list get readusersitemslistpersonid get personsitems add item person item post additemtousersitemslistpersonid itemid post personsitemsitemid update item post modifyitemitemid key value put itemskey value delete item post removeitemitemid delete item source really know prefer rest rpc source reading rest rpc really know prefer rest rpc rpcish approach appropriate rest rest v jsonrpc debunking myth rpc rest drawback using rest crack system design interview thrift rest internal use rpc security section could use update consider contributing security broad topic unless considerable experience security background applying position requires knowledge security probably ' need know basic encrypt transit rest sanitize user input input parameter exposed user prevent x sql injection use parameterized query prevent sql injection use principle least privilege source reading api security checklist security guide developer owasp top ten appendix ' sometimes asked ' backoftheenvelope ' estimate example might need determine long take generate image thumbnail disk much memory data structure take power two table latency number every programmer know handy reference power two table power exact value approx value byte thousand kb kb million mb billion gb gb trillion tb source reading power two latency number every programmer know latency comparison number l cache reference n branch mispredict n l cache reference n x l cache mutex lockunlock n main memory reference n x l cache x l cache compress k byte zippy n u send kb byte gbps network n u read kb randomly ssd n u gbsec ssd read mb sequentially memory n u round trip within datacenter n u read mb sequentially ssd n u gbsec ssd x memory disk seek n u x datacenter roundtrip read mb sequentially gbps n u x memory x ssd read mb sequentially disk n u x memory x ssd send packet canetherlandsca n u note n second u second n second u n handy metric based number read sequentially disk mb read sequentially gbps ethernet mb read sequentially ssd gb read sequentially main memory gb worldwide round trip per second round trip per second within data center latency number visualized source reading latency number every programmer know latency number every programmer know design lesson advice building large distributed system software engineering advice building largescale distributed system additional system design interview question common system design interview question link resource solve question reference design file sync service like dropbox youtubecom design search engine like google queueacmorgstackexchangecomardendertatcomstanfordedu design scalable web crawler like google quoracom design google doc codegooglecomneilfrasername design keyvalue store like redis slidesharenet design cache system like memcached slidesharenet design recommendation system like amazon ' hulucomijcaiorg design tinyurl system like bitly ntcdrblogspotcom design chat app like whatsapp highscalabilitycom design picture sharing system like instagram highscalabilitycomhighscalabilitycom design facebook news feed function quoracomquoracomslidesharenet design facebook timeline function facebookcomhighscalabilitycom design facebook chat function erlangfactorycomfacebookcom design graph search function like facebook ' facebookcomfacebookcomfacebookcom design content delivery network like cloudflare figsharecom design trending topic system like twitter ' michaelnollcomsnikolov wordpresscom design random id generation system blogtwittercomgithubcom return top k request time interval csucsbeduwpiedu design system serf data multiple data center highscalabilitycom design online multiplayer card game indieflashblogcombuildnewgamescom design garbage collection system stuffwithstuffcomwashingtonedu design api rate limiter httpsstripecomblog add system design question contribute real world architecture article real world system designed source twitter timeline scale ' focus nitty gritty detail following article instead identify shared principle common technology pattern within article study problem solved component work ' review lesson learned type system reference data processing mapreduce distributed data processing google researchgooglecom data processing spark distributed data processing databricks slidesharenet data processing storm distributed data processing twitter slidesharenet data store bigtable distributed columnoriented database google harvardedu data store hbase open source implementation bigtable slidesharenet data store cassandra distributed columnoriented database facebook slidesharenet data store dynamodb documentoriented database amazon harvardedu data store mongodb documentoriented database slidesharenet data store spanner globallydistributed database google researchgooglecom data store memcached distributed memory caching system slidesharenet data store redis distributed memory caching system persistence value type slidesharenet file system google file system gfs distributed file system researchgooglecom file system hadoop file system hdfs open source implementation gfs apacheorg misc chubby lock service looselycoupled distributed system google researchgooglecom misc dapper distributed system tracing infrastructure researchgooglecom misc kafka pubsub message queue linkedin slidesharenet misc zookeeper centralized infrastructure service enabling synchronization slidesharenet add architecture contribute company architecture company reference amazon amazon architecture cinchcast producing hour audio every day datasift realtime datamining tweet per second dropbox ' scaled dropbox espn operating duh nuh nuhs per second google google architecture instagram million user terabyte photoswhat power instagram justintv justintv ' live video broadcasting architecture facebook scaling memcached facebooktao facebooks distributed data store social graphfacebooks photo storagehow facebook live stream simultaneous viewer flickr flickr architecture mailbox one million user week netflix degree view entire netflix stacknetflix happens press play pinterest billion page view month million visitor x growth employee playfish million monthly user growing plentyoffish plentyoffish architecture salesforce handle billion transaction day stack overflow stack overflow architecture tripadvisor visitor dynamic page view tb data tumblr billion page view month twitter making twitter percent fasterstoring million tweet day using mysqlm active user k qps mb firehosetimelines scalebig small data twitteroperations twitter scaling beyond million usershow twitter handle image per second uber uber scale realtime market platformlessons learned scaling uber engineer service git repository whatsapp whatsapp architecture facebook bought billion youtube youtube scalabilityyoutube architecture company engineering blog architecture company interviewing question encounter might domain airbnb engineering atlassian developer aws blog bitly engineering blog box blog cloudera developer blog dropbox tech blog engineering quora ebay tech blog evernote tech blog etsy code craft facebook engineering flickr code foursquare engineering blog github engineering blog google research blog groupon engineering blog heroku engineering blog hubspot engineering blog high scalability instagram engineering intel software blog jane street tech blog linkedin engineering microsoft engineering microsoft python engineering netflix tech blog paypal developer blog pinterest engineering blog quora engineering reddit blog salesforce engineering blog slack engineering blog spotify lab twilio engineering blog twitter engineering uber engineering blog yahoo engineering blog yelp engineering blog zynga engineering blog source reading looking add blog avoid duplicating work consider adding company blog following repo kilimchoiengineeringblogs development interested adding section helping complete one inprogress contribute distributed computing mapreduce consistent hashing scatter gather contribute credit credit source provided throughout repo special thanks hired tech cracking coding interview high scalability checkcheckzzsystemdesigninterview shashanksystemdesign mmcgranaservicesengineering system design cheat sheet distributed system reading list cracking system design interview contact info feel free contact discus issue question comment contact info found github page license providing code resource repository open source license personal repository license receive code resource employer facebook copyright donne martin creative common attribution international license cc httpcreativecommonsorglicensesby\""
      ]
     },
     "execution_count": 11,
     "metadata": {},
     "output_type": "execute_result"
    }
   ],
   "source": [
    "readmes.clean[30]"
   ]
  },
  {
   "cell_type": "code",
   "execution_count": 5,
   "metadata": {},
   "outputs": [
    {
     "data": {
      "text/html": [
       "<div>\n",
       "<style scoped>\n",
       "    .dataframe tbody tr th:only-of-type {\n",
       "        vertical-align: middle;\n",
       "    }\n",
       "\n",
       "    .dataframe tbody tr th {\n",
       "        vertical-align: top;\n",
       "    }\n",
       "\n",
       "    .dataframe thead th {\n",
       "        text-align: right;\n",
       "    }\n",
       "</style>\n",
       "<table border=\"1\" class=\"dataframe\">\n",
       "  <thead>\n",
       "    <tr style=\"text-align: right;\">\n",
       "      <th></th>\n",
       "      <th>target</th>\n",
       "      <th>readme</th>\n",
       "    </tr>\n",
       "  </thead>\n",
       "  <tbody>\n",
       "    <tr>\n",
       "      <td>0</td>\n",
       "      <td>JavaScript</td>\n",
       "      <td>\\n\\n\\n\\n\\nfreeCodeCamp.org's open-source codeb...</td>\n",
       "    </tr>\n",
       "    <tr>\n",
       "      <td>1</td>\n",
       "      <td>JavaScript</td>\n",
       "      <td>\\n\\n\\n\\n\\n\\n\\n\\n\\n\\n\\nSupporting Vue.js\\nVue.j...</td>\n",
       "    </tr>\n",
       "    <tr>\n",
       "      <td>2</td>\n",
       "      <td>JavaScript</td>\n",
       "      <td>React ·    \\nReact is a JavaScript library for...</td>\n",
       "    </tr>\n",
       "    <tr>\n",
       "      <td>3</td>\n",
       "      <td>JavaScript</td>\n",
       "      <td>\\n\\n\\n\\n\\nBootstrap\\n\\n  Sleek, intuitive, and...</td>\n",
       "    </tr>\n",
       "    <tr>\n",
       "      <td>4</td>\n",
       "      <td>JavaScript</td>\n",
       "      <td>Airbnb JavaScript Style Guide() {\\nA mostly re...</td>\n",
       "    </tr>\n",
       "    <tr>\n",
       "      <td>...</td>\n",
       "      <td>...</td>\n",
       "      <td>...</td>\n",
       "    </tr>\n",
       "    <tr>\n",
       "      <td>85</td>\n",
       "      <td>Java</td>\n",
       "      <td>\\nApollo - A reliable configuration management...</td>\n",
       "    </tr>\n",
       "    <tr>\n",
       "      <td>86</td>\n",
       "      <td>Java</td>\n",
       "      <td>RxAndroid: Reactive Extensions for Android\\nAn...</td>\n",
       "    </tr>\n",
       "    <tr>\n",
       "      <td>87</td>\n",
       "      <td>Java</td>\n",
       "      <td>Ghidra Software Reverse Engineering Framework\\...</td>\n",
       "    </tr>\n",
       "    <tr>\n",
       "      <td>88</td>\n",
       "      <td>Java</td>\n",
       "      <td>Arthas\\n\\n\\n\\n\\n\\n\\n\\nArthas is a Java Diagnos...</td>\n",
       "    </tr>\n",
       "    <tr>\n",
       "      <td>89</td>\n",
       "      <td>Java</td>\n",
       "      <td>HanLP: Han Language Processing\\n汉语言处理包\\n\\n\\n\\n...</td>\n",
       "    </tr>\n",
       "  </tbody>\n",
       "</table>\n",
       "<p>90 rows × 2 columns</p>\n",
       "</div>"
      ],
      "text/plain": [
       "        target                                             readme\n",
       "0   JavaScript  \\n\\n\\n\\n\\nfreeCodeCamp.org's open-source codeb...\n",
       "1   JavaScript  \\n\\n\\n\\n\\n\\n\\n\\n\\n\\n\\nSupporting Vue.js\\nVue.j...\n",
       "2   JavaScript  React ·    \\nReact is a JavaScript library for...\n",
       "3   JavaScript  \\n\\n\\n\\n\\nBootstrap\\n\\n  Sleek, intuitive, and...\n",
       "4   JavaScript  Airbnb JavaScript Style Guide() {\\nA mostly re...\n",
       "..         ...                                                ...\n",
       "85        Java  \\nApollo - A reliable configuration management...\n",
       "86        Java  RxAndroid: Reactive Extensions for Android\\nAn...\n",
       "87        Java  Ghidra Software Reverse Engineering Framework\\...\n",
       "88        Java  Arthas\\n\\n\\n\\n\\n\\n\\n\\nArthas is a Java Diagnos...\n",
       "89        Java  HanLP: Han Language Processing\\n汉语言处理包\\n\\n\\n\\n...\n",
       "\n",
       "[90 rows x 2 columns]"
      ]
     },
     "execution_count": 5,
     "metadata": {},
     "output_type": "execute_result"
    }
   ],
   "source": [
    "readmes"
   ]
  },
  {
   "cell_type": "code",
   "execution_count": null,
   "metadata": {},
   "outputs": [],
   "source": []
  }
 ],
 "metadata": {
  "kernelspec": {
   "display_name": "Python 3",
   "language": "python",
   "name": "python3"
  },
  "language_info": {
   "codemirror_mode": {
    "name": "ipython",
    "version": 3
   },
   "file_extension": ".py",
   "mimetype": "text/x-python",
   "name": "python",
   "nbconvert_exporter": "python",
   "pygments_lexer": "ipython3",
   "version": "3.7.4"
  }
 },
 "nbformat": 4,
 "nbformat_minor": 2
}
