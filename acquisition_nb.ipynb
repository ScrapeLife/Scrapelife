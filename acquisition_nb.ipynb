{
 "cells": [
  {
   "cell_type": "code",
   "execution_count": 4,
   "metadata": {},
   "outputs": [],
   "source": [
    "from bs4 import BeautifulSoup\n",
    "from requests import get\n",
    "import warnings\n",
    "warnings.filterwarnings('ignore')\n",
    "import re\n",
    "import pandas as pd"
   ]
  },
  {
   "cell_type": "code",
   "execution_count": 5,
   "metadata": {},
   "outputs": [],
   "source": [
    "url = 'https://github.com/search?q=stars%3A%3E0&s=stars&type=Repositories'\n",
    "headers = {'User-Agent': 'Codeup Data Science Student'}\n",
    "raw_data = get(url, headers = headers).text\n",
    "soup = BeautifulSoup(raw_data)"
   ]
  },
  {
   "cell_type": "code",
   "execution_count": 6,
   "metadata": {},
   "outputs": [],
   "source": [
    "stuff = soup.select_one('.repo-list').select('.v-align-middle')"
   ]
  },
  {
   "cell_type": "code",
   "execution_count": 7,
   "metadata": {},
   "outputs": [
    {
     "data": {
      "text/plain": [
       "['freeCodeCamp/freeCodeCamp',\n",
       " '996icu/996.ICU',\n",
       " 'vuejs/vue',\n",
       " 'facebook/react',\n",
       " 'tensorflow/tensorflow',\n",
       " 'twbs/bootstrap',\n",
       " 'EbookFoundation/free-programming-books',\n",
       " 'sindresorhus/awesome',\n",
       " 'getify/You-Dont-Know-JS',\n",
       " 'ohmyzsh/ohmyzsh']"
      ]
     },
     "execution_count": 7,
     "metadata": {},
     "output_type": "execute_result"
    }
   ],
   "source": [
    "[x.text for x in stuff]"
   ]
  },
  {
   "cell_type": "code",
   "execution_count": 8,
   "metadata": {},
   "outputs": [
    {
     "data": {
      "text/plain": [
       "'/search?p=2&q=stars%3A%3E0&s=stars&type=Repositories'"
      ]
     },
     "execution_count": 8,
     "metadata": {},
     "output_type": "execute_result"
    }
   ],
   "source": [
    "next_page = soup.select_one('.next_page').get('href')\n",
    "next_page"
   ]
  },
  {
   "cell_type": "code",
   "execution_count": 20,
   "metadata": {},
   "outputs": [
    {
     "name": "stdout",
     "output_type": "stream",
     "text": [
      "https://github.com/search?p=2&q=stars%3A%3E0&s=stars&type=Repositories\n"
     ]
    }
   ],
   "source": [
    "url = 'https://github.com/search?q=stars%3A%3E0&s=stars&type=Repositories'\n",
    "headers = {'User-Agent': 'Codeup Data Science Student'}\n",
    "urls = []\n",
    "while len(urls) <1:\n",
    "\n",
    "    raw_data = get(url, headers = headers).text\n",
    "    soup = BeautifulSoup(raw_data)\n",
    "    stuff = soup.select_one('.repo-list').select('.v-align-middle')\n",
    "    better_stuff = [x.text for x in stuff]\n",
    "    for url in better_stuff:\n",
    "        urls.append('github.com/' + url)\n",
    "        \n",
    "    next_page = soup.select_one('.next_page').get('href')\n",
    "    url= ('https://github.com' + next_page)\n",
    "    \n",
    "    \n",
    "    print(url)\n",
    "    \n",
    "    \n",
    "    \n",
    "    "
   ]
  },
  {
   "cell_type": "code",
   "execution_count": null,
   "metadata": {},
   "outputs": [],
   "source": []
  }
 ],
 "metadata": {
  "kernelspec": {
   "display_name": "Python 3",
   "language": "python",
   "name": "python3"
  },
  "language_info": {
   "codemirror_mode": {
    "name": "ipython",
    "version": 3
   },
   "file_extension": ".py",
   "mimetype": "text/x-python",
   "name": "python",
   "nbconvert_exporter": "python",
   "pygments_lexer": "ipython3",
   "version": "3.7.3"
  }
 },
 "nbformat": 4,
 "nbformat_minor": 2
}
